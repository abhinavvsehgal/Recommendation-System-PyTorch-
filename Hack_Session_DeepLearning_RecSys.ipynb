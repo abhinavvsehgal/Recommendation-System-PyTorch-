{
 "cells": [
  {
   "cell_type": "markdown",
   "metadata": {},
   "source": [
    "### Datasets Requirements"
   ]
  },
  {
   "cell_type": "markdown",
   "metadata": {},
   "source": [
    "1MB file downloaded from http://files.grouplens.org/datasets/movielens/ml-latest-small.zip"
   ]
  },
  {
   "cell_type": "markdown",
   "metadata": {},
   "source": [
    "Tensor is the equivalent of a ndarray in Python"
   ]
  },
  {
   "cell_type": "code",
   "execution_count": 2,
   "metadata": {},
   "outputs": [
    {
     "name": "stdout",
     "output_type": "stream",
     "text": [
      "tensor([[1.1632e+33, 5.6003e-02, 7.0374e+22],\n",
      "        [5.7453e-44, 0.0000e+00, 0.0000e+00],\n",
      "        [0.0000e+00, 0.0000e+00, 1.4569e-19],\n",
      "        [6.4069e+02, 4.3066e+21, 1.1824e+22],\n",
      "        [4.3066e+21, 6.3828e+28, 3.8016e-39]])\n"
     ]
    }
   ],
   "source": [
    "import torch\n",
    "x=torch.Tensor (5,3)\n",
    "print (x)"
   ]
  },
  {
   "cell_type": "code",
   "execution_count": 3,
   "metadata": {},
   "outputs": [
    {
     "name": "stdout",
     "output_type": "stream",
     "text": [
      "tensor([[0.1520, 0.3047, 0.4947],\n",
      "        [0.6785, 0.2370, 0.7658],\n",
      "        [0.0350, 0.0530, 0.0347],\n",
      "        [0.7979, 0.3297, 0.1021],\n",
      "        [0.6227, 0.4985, 0.0319]])\n"
     ]
    }
   ],
   "source": [
    "x=torch.rand(5,3)\n",
    "print (x)"
   ]
  },
  {
   "cell_type": "code",
   "execution_count": 4,
   "metadata": {},
   "outputs": [
    {
     "name": "stdout",
     "output_type": "stream",
     "text": [
      "<class 'numpy.ndarray'> <class 'torch.Tensor'>\n"
     ]
    }
   ],
   "source": [
    "y=x.numpy()\n",
    "print (type(y), type(x))"
   ]
  },
  {
   "cell_type": "code",
   "execution_count": 5,
   "metadata": {},
   "outputs": [],
   "source": [
    "# check if CUDA is available (do you have a graphics card that supports CUDA?)"
   ]
  },
  {
   "cell_type": "code",
   "execution_count": 6,
   "metadata": {},
   "outputs": [
    {
     "data": {
      "text/plain": [
       "False"
      ]
     },
     "execution_count": 6,
     "metadata": {},
     "output_type": "execute_result"
    }
   ],
   "source": [
    "torch.cuda.is_available()"
   ]
  },
  {
   "cell_type": "code",
   "execution_count": 7,
   "metadata": {},
   "outputs": [],
   "source": [
    "# Move the data to a GPU"
   ]
  },
  {
   "cell_type": "code",
   "execution_count": 12,
   "metadata": {},
   "outputs": [
    {
     "name": "stdout",
     "output_type": "stream",
     "text": [
      "tensor([[0.1520, 0.3047, 0.4947],\n",
      "        [0.6785, 0.2370, 0.7658],\n",
      "        [0.0350, 0.0530, 0.0347],\n",
      "        [0.7979, 0.3297, 0.1021],\n",
      "        [0.6227, 0.4985, 0.0319]])\n"
     ]
    }
   ],
   "source": [
    "#x1=x.cuda()\n",
    "print (x)\n",
    "#print (x1)"
   ]
  },
  {
   "cell_type": "code",
   "execution_count": 13,
   "metadata": {},
   "outputs": [
    {
     "data": {
      "text/plain": [
       "array([[0.15204209, 0.30470502, 0.49470627],\n",
       "       [0.6785214 , 0.2370466 , 0.76582974],\n",
       "       [0.03501064, 0.05300874, 0.03472   ],\n",
       "       [0.79789853, 0.32967395, 0.10205132],\n",
       "       [0.62267345, 0.49850088, 0.03191268]], dtype=float32)"
      ]
     },
     "execution_count": 13,
     "metadata": {},
     "output_type": "execute_result"
    }
   ],
   "source": [
    "x.numpy()"
   ]
  },
  {
   "cell_type": "markdown",
   "metadata": {},
   "source": [
    "#### Automatic Differentiation"
   ]
  },
  {
   "cell_type": "code",
   "execution_count": 16,
   "metadata": {},
   "outputs": [],
   "source": [
    "actual=torch.rand(5,3).view(-1).requires_grad_(True)"
   ]
  },
  {
   "cell_type": "code",
   "execution_count": 17,
   "metadata": {},
   "outputs": [
    {
     "data": {
      "text/plain": [
       "tensor([0.6298, 0.3521, 0.4537, 0.1205, 0.8280, 0.8782, 0.2868, 0.8440, 0.6601,\n",
       "        0.3515, 0.5134, 0.6275, 0.6062, 0.9376, 0.0334], requires_grad=True)"
      ]
     },
     "execution_count": 17,
     "metadata": {},
     "output_type": "execute_result"
    }
   ],
   "source": [
    "actual"
   ]
  },
  {
   "cell_type": "code",
   "execution_count": 18,
   "metadata": {},
   "outputs": [],
   "source": [
    "predicted=torch.rand(5,3).view(-1).requires_grad_(True)"
   ]
  },
  {
   "cell_type": "code",
   "execution_count": 19,
   "metadata": {},
   "outputs": [
    {
     "data": {
      "text/plain": [
       "tensor([0.1865, 0.7774, 0.9701, 0.3504, 0.1728, 0.8938, 0.4636, 0.1880, 0.7035,\n",
       "        0.1601, 0.0520, 0.3795, 0.2391, 0.5670, 0.0973], requires_grad=True)"
      ]
     },
     "execution_count": 19,
     "metadata": {},
     "output_type": "execute_result"
    }
   ],
   "source": [
    "predicted"
   ]
  },
  {
   "cell_type": "code",
   "execution_count": 20,
   "metadata": {},
   "outputs": [],
   "source": [
    "loss=torch.sum((actual-predicted)**2)"
   ]
  },
  {
   "cell_type": "code",
   "execution_count": 21,
   "metadata": {},
   "outputs": [
    {
     "data": {
      "text/plain": [
       "tensor(2.1773, grad_fn=<SumBackward0>)"
      ]
     },
     "execution_count": 21,
     "metadata": {},
     "output_type": "execute_result"
    }
   ],
   "source": [
    "loss"
   ]
  },
  {
   "cell_type": "code",
   "execution_count": 22,
   "metadata": {},
   "outputs": [
    {
     "data": {
      "text/plain": [
       "True"
      ]
     },
     "execution_count": 22,
     "metadata": {},
     "output_type": "execute_result"
    }
   ],
   "source": [
    "loss.requires_grad"
   ]
  },
  {
   "cell_type": "code",
   "execution_count": 23,
   "metadata": {},
   "outputs": [],
   "source": [
    "loss.backward()"
   ]
  },
  {
   "cell_type": "code",
   "execution_count": 24,
   "metadata": {},
   "outputs": [
    {
     "data": {
      "text/plain": [
       "<SumBackward0 at 0x7f8b6834ca10>"
      ]
     },
     "execution_count": 24,
     "metadata": {},
     "output_type": "execute_result"
    }
   ],
   "source": [
    "loss.grad_fn"
   ]
  },
  {
   "cell_type": "code",
   "execution_count": 25,
   "metadata": {},
   "outputs": [
    {
     "data": {
      "text/plain": [
       "tensor([-0.8868,  0.8507,  1.0329,  0.4596, -1.3105,  0.0312,  0.3537, -1.3120,\n",
       "         0.0868, -0.3828, -0.9227, -0.4962, -0.7342, -0.7412,  0.1277])"
      ]
     },
     "execution_count": 25,
     "metadata": {},
     "output_type": "execute_result"
    }
   ],
   "source": [
    "predicted.grad"
   ]
  },
  {
   "cell_type": "code",
   "execution_count": 26,
   "metadata": {},
   "outputs": [
    {
     "data": {
      "text/plain": [
       "tensor([ 0.8868, -0.8507, -1.0329, -0.4596,  1.3105, -0.0312, -0.3537,  1.3120,\n",
       "        -0.0868,  0.3828,  0.9227,  0.4962,  0.7342,  0.7412, -0.1277],\n",
       "       grad_fn=<MulBackward0>)"
      ]
     },
     "execution_count": 26,
     "metadata": {},
     "output_type": "execute_result"
    }
   ],
   "source": [
    "2*(actual-predicted)"
   ]
  },
  {
   "cell_type": "markdown",
   "metadata": {},
   "source": [
    "basically what we are doing is subtractign the gradient from the original data"
   ]
  },
  {
   "cell_type": "markdown",
   "metadata": {},
   "source": [
    "##### Example 2"
   ]
  },
  {
   "cell_type": "code",
   "execution_count": 27,
   "metadata": {},
   "outputs": [
    {
     "name": "stdout",
     "output_type": "stream",
     "text": [
      "tensor([[0.8809],\n",
      "        [0.8224],\n",
      "        [0.9349],\n",
      "        [0.3677],\n",
      "        [0.5134],\n",
      "        [0.9120],\n",
      "        [0.8058],\n",
      "        [0.5697],\n",
      "        [0.2288],\n",
      "        [0.3960],\n",
      "        [0.4120],\n",
      "        [0.7470],\n",
      "        [0.3252],\n",
      "        [0.5864],\n",
      "        [0.1979]])\n"
     ]
    }
   ],
   "source": [
    "x=torch.rand(15,1)\n",
    "print (x)"
   ]
  },
  {
   "cell_type": "code",
   "execution_count": 28,
   "metadata": {},
   "outputs": [
    {
     "data": {
      "text/plain": [
       "tensor(15.)"
      ]
     },
     "execution_count": 28,
     "metadata": {},
     "output_type": "execute_result"
    }
   ],
   "source": [
    "m=torch.tensor(data=15.0)\n",
    "m"
   ]
  },
  {
   "cell_type": "code",
   "execution_count": 29,
   "metadata": {},
   "outputs": [],
   "source": [
    "c=torch.tensor(data=11.0)"
   ]
  },
  {
   "cell_type": "code",
   "execution_count": 30,
   "metadata": {},
   "outputs": [
    {
     "name": "stdout",
     "output_type": "stream",
     "text": [
      "tensor([[24.2140],\n",
      "        [23.3359],\n",
      "        [25.0233],\n",
      "        [16.5158],\n",
      "        [18.7006],\n",
      "        [24.6805],\n",
      "        [23.0872],\n",
      "        [19.5457],\n",
      "        [14.4325],\n",
      "        [16.9400],\n",
      "        [17.1803],\n",
      "        [22.2050],\n",
      "        [15.8776],\n",
      "        [19.7955],\n",
      "        [13.9680]])\n"
     ]
    }
   ],
   "source": [
    "y=m*x+c\n",
    "print (y)"
   ]
  },
  {
   "cell_type": "code",
   "execution_count": 31,
   "metadata": {},
   "outputs": [],
   "source": [
    "# Guess a value for m and for c\n",
    "mguess=torch.tensor(1.0,requires_grad=True)\n",
    "cguess=torch.tensor(0.5,requires_grad=True)"
   ]
  },
  {
   "cell_type": "code",
   "execution_count": 32,
   "metadata": {},
   "outputs": [],
   "source": [
    "yhat=mguess*x+cguess"
   ]
  },
  {
   "cell_type": "code",
   "execution_count": 33,
   "metadata": {},
   "outputs": [
    {
     "name": "stdout",
     "output_type": "stream",
     "text": [
      "tensor([[1.3809],\n",
      "        [1.3224],\n",
      "        [1.4349],\n",
      "        [0.8677],\n",
      "        [1.0134],\n",
      "        [1.4120],\n",
      "        [1.3058],\n",
      "        [1.0697],\n",
      "        [0.7288],\n",
      "        [0.8960],\n",
      "        [0.9120],\n",
      "        [1.2470],\n",
      "        [0.8252],\n",
      "        [1.0864],\n",
      "        [0.6979]], grad_fn=<AddBackward0>)\n"
     ]
    }
   ],
   "source": [
    "print (yhat)"
   ]
  },
  {
   "cell_type": "code",
   "execution_count": 34,
   "metadata": {},
   "outputs": [
    {
     "data": {
      "text/plain": [
       "torch.Size([15, 1])"
      ]
     },
     "execution_count": 34,
     "metadata": {},
     "output_type": "execute_result"
    }
   ],
   "source": [
    "yhat.size()"
   ]
  },
  {
   "cell_type": "code",
   "execution_count": 35,
   "metadata": {},
   "outputs": [],
   "source": [
    "losslinreg=torch.sum((yhat-y)**2)/yhat.size()[0]"
   ]
  },
  {
   "cell_type": "code",
   "execution_count": 36,
   "metadata": {},
   "outputs": [
    {
     "data": {
      "text/plain": [
       "tensor(358.6042, grad_fn=<DivBackward0>)"
      ]
     },
     "execution_count": 36,
     "metadata": {},
     "output_type": "execute_result"
    }
   ],
   "source": [
    "losslinreg"
   ]
  },
  {
   "cell_type": "code",
   "execution_count": 37,
   "metadata": {},
   "outputs": [],
   "source": [
    "losslinreg.backward()"
   ]
  },
  {
   "cell_type": "code",
   "execution_count": 38,
   "metadata": {},
   "outputs": [
    {
     "data": {
      "text/plain": [
       "tensor(-23.2990)"
      ]
     },
     "execution_count": 38,
     "metadata": {},
     "output_type": "execute_result"
    }
   ],
   "source": [
    "mguess.grad"
   ]
  },
  {
   "cell_type": "code",
   "execution_count": 39,
   "metadata": {},
   "outputs": [
    {
     "data": {
      "text/plain": [
       "tensor(-37.2402)"
      ]
     },
     "execution_count": 39,
     "metadata": {},
     "output_type": "execute_result"
    }
   ],
   "source": [
    "cguess.grad"
   ]
  },
  {
   "cell_type": "code",
   "execution_count": 40,
   "metadata": {},
   "outputs": [
    {
     "data": {
      "text/plain": [
       "tensor(1.)"
      ]
     },
     "execution_count": 40,
     "metadata": {},
     "output_type": "execute_result"
    }
   ],
   "source": [
    "mguess.data"
   ]
  },
  {
   "cell_type": "code",
   "execution_count": 41,
   "metadata": {},
   "outputs": [
    {
     "data": {
      "text/plain": [
       "tensor(0.5000)"
      ]
     },
     "execution_count": 41,
     "metadata": {},
     "output_type": "execute_result"
    }
   ],
   "source": [
    "cguess.data"
   ]
  },
  {
   "cell_type": "code",
   "execution_count": 42,
   "metadata": {},
   "outputs": [
    {
     "data": {
      "text/plain": [
       "tensor(4.2240)"
      ]
     },
     "execution_count": 42,
     "metadata": {},
     "output_type": "execute_result"
    }
   ],
   "source": [
    "learning_rate=0.1\n",
    "mguess.data.sub_(mguess.grad.data * learning_rate)\n",
    "cguess.data.sub_(cguess.grad.data * learning_rate)\n"
   ]
  },
  {
   "cell_type": "code",
   "execution_count": 43,
   "metadata": {},
   "outputs": [
    {
     "data": {
      "text/plain": [
       "tensor(3.3299)"
      ]
     },
     "execution_count": 43,
     "metadata": {},
     "output_type": "execute_result"
    }
   ],
   "source": [
    "mguess.data"
   ]
  },
  {
   "cell_type": "code",
   "execution_count": 44,
   "metadata": {},
   "outputs": [
    {
     "data": {
      "text/plain": [
       "tensor(4.2240)"
      ]
     },
     "execution_count": 44,
     "metadata": {},
     "output_type": "execute_result"
    }
   ],
   "source": [
    "cguess.data"
   ]
  },
  {
   "cell_type": "code",
   "execution_count": 45,
   "metadata": {},
   "outputs": [
    {
     "name": "stdout",
     "output_type": "stream",
     "text": [
      "tensor(191.7254)\n"
     ]
    }
   ],
   "source": [
    "with torch.no_grad():\n",
    "    print ( torch.sum((y-(mguess*x+cguess))**2)/yhat.size()[0])"
   ]
  },
  {
   "cell_type": "markdown",
   "metadata": {},
   "source": [
    "#### ReLU and dropout are usually used right after a linear layer to create non-linearity"
   ]
  },
  {
   "cell_type": "markdown",
   "metadata": {},
   "source": [
    "- torch.nn.ReLU(inplace=True)\n",
    "\n",
    "Will basically replace any non-zero values with zero bringing in non-linearity\n",
    "- torch.nn.Dropout(inplace=True,p=0.5)\n",
    "\n",
    "Randomly zeros some of the activations with a probability of p from a Bernoulli distribution, helping in regularization\n",
    "\n"
   ]
  },
  {
   "cell_type": "markdown",
   "metadata": {},
   "source": [
    "#### Normalization"
   ]
  },
  {
   "cell_type": "markdown",
   "metadata": {},
   "source": [
    "- torch.nn.BatchNorm1d(num_features,eps=,momentum=,affine=,track_running_stats)\n",
    "\n",
    "During training this layer keeps running estimates of its\n",
    "computed mean and variance, which are then used for normalization during\n",
    "evaluation. The running estimates are kept with a default :attr:`momentum`\n",
    "of 0.1.\n"
   ]
  },
  {
   "cell_type": "markdown",
   "metadata": {},
   "source": [
    "#### Convolution"
   ]
  },
  {
   "cell_type": "markdown",
   "metadata": {},
   "source": [
    "- torch.nn.Conv2d(in_channels=1,out_channels=6,kernel_size=5,stride=1,padding=0)\n",
    "    * kernel_size tells about the size of the convolution which is in this case 5 *  5 filter\n",
    "    * We are using a stride of 1 and a padding of 0 - which means it is a 'valid' convolution\n",
    "    * out_channels tells us the number of filters that we use which is in this case 6z\n",
    "    \n"
   ]
  },
  {
   "cell_type": "markdown",
   "metadata": {},
   "source": [
    "- torch.nn.MaxPool2d(kernel_size=5,stride=1,padding=0)"
   ]
  },
  {
   "cell_type": "markdown",
   "metadata": {},
   "source": [
    "#### Embedding"
   ]
  },
  {
   "cell_type": "markdown",
   "metadata": {},
   "source": [
    "- torch.nn.Embedding(num_embeddings=len(unique(users)),embedding_dim=50)"
   ]
  },
  {
   "cell_type": "markdown",
   "metadata": {},
   "source": [
    "#### Non-Linear Activations"
   ]
  },
  {
   "cell_type": "markdown",
   "metadata": {},
   "source": [
    "- torch.nn.Sigmoid()\n",
    "- torch.nn.Softmax()\n",
    "- torch.nn.LogSigmoid()\n",
    "- torch.nn.LogSoftmax()\n",
    "- torch.nn.Tanh()"
   ]
  },
  {
   "cell_type": "markdown",
   "metadata": {},
   "source": [
    "# Data Engineering"
   ]
  },
  {
   "cell_type": "markdown",
   "metadata": {},
   "source": [
    "## Read Files"
   ]
  },
  {
   "cell_type": "code",
   "execution_count": 46,
   "metadata": {},
   "outputs": [],
   "source": [
    "# Set the path to the MovieLens 1M Dataset\n",
    "PATH=\"ml-latest-small\""
   ]
  },
  {
   "cell_type": "code",
   "execution_count": 47,
   "metadata": {},
   "outputs": [],
   "source": [
    "import pandas as pd\n",
    "import numpy as np\n",
    "import matplotlib.pyplot as plt\n",
    "import scipy as sp\n",
    "import sklearn as sklearn\n",
    "import datetime as dt \n",
    "import seaborn as sns\n",
    "from sklearn import metrics\n",
    "import torch as torch"
   ]
  },
  {
   "cell_type": "code",
   "execution_count": 48,
   "metadata": {},
   "outputs": [],
   "source": [
    "# Read Ratings File"
   ]
  },
  {
   "cell_type": "code",
   "execution_count": 49,
   "metadata": {},
   "outputs": [],
   "source": [
    "dfratings=pd.read_csv(f'{PATH}/ratings.csv')"
   ]
  },
  {
   "cell_type": "code",
   "execution_count": 50,
   "metadata": {},
   "outputs": [],
   "source": [
    "dfratings['timestamp']=dfratings['timestamp'].apply(dt.datetime.fromtimestamp)"
   ]
  },
  {
   "cell_type": "code",
   "execution_count": 51,
   "metadata": {},
   "outputs": [
    {
     "data": {
      "text/html": [
       "<div>\n",
       "<style scoped>\n",
       "    .dataframe tbody tr th:only-of-type {\n",
       "        vertical-align: middle;\n",
       "    }\n",
       "\n",
       "    .dataframe tbody tr th {\n",
       "        vertical-align: top;\n",
       "    }\n",
       "\n",
       "    .dataframe thead th {\n",
       "        text-align: right;\n",
       "    }\n",
       "</style>\n",
       "<table border=\"1\" class=\"dataframe\">\n",
       "  <thead>\n",
       "    <tr style=\"text-align: right;\">\n",
       "      <th></th>\n",
       "      <th>userId</th>\n",
       "      <th>movieId</th>\n",
       "      <th>rating</th>\n",
       "      <th>timestamp</th>\n",
       "    </tr>\n",
       "  </thead>\n",
       "  <tbody>\n",
       "    <tr>\n",
       "      <td>0</td>\n",
       "      <td>1</td>\n",
       "      <td>1</td>\n",
       "      <td>4.0</td>\n",
       "      <td>2000-07-31 00:15:03</td>\n",
       "    </tr>\n",
       "    <tr>\n",
       "      <td>1</td>\n",
       "      <td>1</td>\n",
       "      <td>3</td>\n",
       "      <td>4.0</td>\n",
       "      <td>2000-07-30 23:50:47</td>\n",
       "    </tr>\n",
       "    <tr>\n",
       "      <td>2</td>\n",
       "      <td>1</td>\n",
       "      <td>6</td>\n",
       "      <td>4.0</td>\n",
       "      <td>2000-07-31 00:07:04</td>\n",
       "    </tr>\n",
       "    <tr>\n",
       "      <td>3</td>\n",
       "      <td>1</td>\n",
       "      <td>47</td>\n",
       "      <td>5.0</td>\n",
       "      <td>2000-07-31 00:33:35</td>\n",
       "    </tr>\n",
       "    <tr>\n",
       "      <td>4</td>\n",
       "      <td>1</td>\n",
       "      <td>50</td>\n",
       "      <td>5.0</td>\n",
       "      <td>2000-07-31 00:18:51</td>\n",
       "    </tr>\n",
       "  </tbody>\n",
       "</table>\n",
       "</div>"
      ],
      "text/plain": [
       "   userId  movieId  rating           timestamp\n",
       "0       1        1     4.0 2000-07-31 00:15:03\n",
       "1       1        3     4.0 2000-07-30 23:50:47\n",
       "2       1        6     4.0 2000-07-31 00:07:04\n",
       "3       1       47     5.0 2000-07-31 00:33:35\n",
       "4       1       50     5.0 2000-07-31 00:18:51"
      ]
     },
     "execution_count": 51,
     "metadata": {},
     "output_type": "execute_result"
    }
   ],
   "source": [
    "dfratings.head()"
   ]
  },
  {
   "cell_type": "markdown",
   "metadata": {},
   "source": [
    "### Exploratory Analysis: Ratings by Year"
   ]
  },
  {
   "cell_type": "code",
   "execution_count": 52,
   "metadata": {},
   "outputs": [],
   "source": [
    "# Let us see the number of ratings by year\n",
    "dfratings['year']=dfratings['timestamp'].dt.year.astype(int)"
   ]
  },
  {
   "cell_type": "code",
   "execution_count": 53,
   "metadata": {},
   "outputs": [],
   "source": [
    "# How are the ratings distributed by year\n",
    "ratings_by_year=dfratings['year'].value_counts().sort_index()\n",
    "ratings_by_year=pd.DataFrame(ratings_by_year)\n",
    "ratings_by_year.reset_index(inplace=True)\n",
    "ratings_by_year.columns=['Year','numratings']\n",
    "ratings_by_year['Year']=ratings_by_year['Year'].astype(str)"
   ]
  },
  {
   "cell_type": "code",
   "execution_count": 54,
   "metadata": {},
   "outputs": [
    {
     "data": {
      "text/plain": [
       "[<matplotlib.lines.Line2D at 0x7f8b48631c90>]"
      ]
     },
     "execution_count": 54,
     "metadata": {},
     "output_type": "execute_result"
    },
    {
     "data": {
      "image/png": "[encoded data removed]",
      "text/plain": [
       "<Figure size 864x576 with 1 Axes>"
      ]
     },
     "metadata": {
      "needs_background": "light"
     },
     "output_type": "display_data"
    }
   ],
   "source": [
    "figure=plt.figure(figsize=(12,8))\n",
    "plt.plot (ratings_by_year['Year'],ratings_by_year['numratings'],'o--')"
   ]
  },
  {
   "cell_type": "code",
   "execution_count": 55,
   "metadata": {},
   "outputs": [],
   "source": [
    "dfratings['month']=dfratings['timestamp'].dt.month"
   ]
  },
  {
   "cell_type": "code",
   "execution_count": 56,
   "metadata": {},
   "outputs": [
    {
     "data": {
      "text/html": [
       "<div>\n",
       "<style scoped>\n",
       "    .dataframe tbody tr th:only-of-type {\n",
       "        vertical-align: middle;\n",
       "    }\n",
       "\n",
       "    .dataframe tbody tr th {\n",
       "        vertical-align: top;\n",
       "    }\n",
       "\n",
       "    .dataframe thead th {\n",
       "        text-align: right;\n",
       "    }\n",
       "</style>\n",
       "<table border=\"1\" class=\"dataframe\">\n",
       "  <thead>\n",
       "    <tr style=\"text-align: right;\">\n",
       "      <th>year</th>\n",
       "      <th>1996</th>\n",
       "      <th>1997</th>\n",
       "      <th>1998</th>\n",
       "      <th>1999</th>\n",
       "      <th>2000</th>\n",
       "      <th>2001</th>\n",
       "      <th>2002</th>\n",
       "      <th>2003</th>\n",
       "      <th>2004</th>\n",
       "      <th>2005</th>\n",
       "      <th>...</th>\n",
       "      <th>2009</th>\n",
       "      <th>2010</th>\n",
       "      <th>2011</th>\n",
       "      <th>2012</th>\n",
       "      <th>2013</th>\n",
       "      <th>2014</th>\n",
       "      <th>2015</th>\n",
       "      <th>2016</th>\n",
       "      <th>2017</th>\n",
       "      <th>2018</th>\n",
       "    </tr>\n",
       "    <tr>\n",
       "      <th>month</th>\n",
       "      <th></th>\n",
       "      <th></th>\n",
       "      <th></th>\n",
       "      <th></th>\n",
       "      <th></th>\n",
       "      <th></th>\n",
       "      <th></th>\n",
       "      <th></th>\n",
       "      <th></th>\n",
       "      <th></th>\n",
       "      <th></th>\n",
       "      <th></th>\n",
       "      <th></th>\n",
       "      <th></th>\n",
       "      <th></th>\n",
       "      <th></th>\n",
       "      <th></th>\n",
       "      <th></th>\n",
       "      <th></th>\n",
       "      <th></th>\n",
       "      <th></th>\n",
       "    </tr>\n",
       "  </thead>\n",
       "  <tbody>\n",
       "    <tr>\n",
       "      <td>1</td>\n",
       "      <td>0</td>\n",
       "      <td>250</td>\n",
       "      <td>57</td>\n",
       "      <td>4</td>\n",
       "      <td>297</td>\n",
       "      <td>1106</td>\n",
       "      <td>52</td>\n",
       "      <td>501</td>\n",
       "      <td>139</td>\n",
       "      <td>1177</td>\n",
       "      <td>...</td>\n",
       "      <td>510</td>\n",
       "      <td>139</td>\n",
       "      <td>154</td>\n",
       "      <td>499</td>\n",
       "      <td>150</td>\n",
       "      <td>57</td>\n",
       "      <td>375</td>\n",
       "      <td>344</td>\n",
       "      <td>194</td>\n",
       "      <td>886</td>\n",
       "    </tr>\n",
       "    <tr>\n",
       "      <td>2</td>\n",
       "      <td>0</td>\n",
       "      <td>323</td>\n",
       "      <td>1</td>\n",
       "      <td>32</td>\n",
       "      <td>303</td>\n",
       "      <td>70</td>\n",
       "      <td>146</td>\n",
       "      <td>156</td>\n",
       "      <td>158</td>\n",
       "      <td>445</td>\n",
       "      <td>...</td>\n",
       "      <td>494</td>\n",
       "      <td>253</td>\n",
       "      <td>106</td>\n",
       "      <td>244</td>\n",
       "      <td>44</td>\n",
       "      <td>358</td>\n",
       "      <td>216</td>\n",
       "      <td>569</td>\n",
       "      <td>420</td>\n",
       "      <td>1233</td>\n",
       "    </tr>\n",
       "    <tr>\n",
       "      <td>3</td>\n",
       "      <td>58</td>\n",
       "      <td>398</td>\n",
       "      <td>130</td>\n",
       "      <td>7</td>\n",
       "      <td>779</td>\n",
       "      <td>37</td>\n",
       "      <td>94</td>\n",
       "      <td>840</td>\n",
       "      <td>218</td>\n",
       "      <td>1038</td>\n",
       "      <td>...</td>\n",
       "      <td>1083</td>\n",
       "      <td>345</td>\n",
       "      <td>85</td>\n",
       "      <td>538</td>\n",
       "      <td>57</td>\n",
       "      <td>13</td>\n",
       "      <td>89</td>\n",
       "      <td>841</td>\n",
       "      <td>549</td>\n",
       "      <td>968</td>\n",
       "    </tr>\n",
       "    <tr>\n",
       "      <td>4</td>\n",
       "      <td>165</td>\n",
       "      <td>219</td>\n",
       "      <td>0</td>\n",
       "      <td>0</td>\n",
       "      <td>622</td>\n",
       "      <td>160</td>\n",
       "      <td>633</td>\n",
       "      <td>47</td>\n",
       "      <td>111</td>\n",
       "      <td>969</td>\n",
       "      <td>...</td>\n",
       "      <td>137</td>\n",
       "      <td>321</td>\n",
       "      <td>23</td>\n",
       "      <td>523</td>\n",
       "      <td>196</td>\n",
       "      <td>7</td>\n",
       "      <td>207</td>\n",
       "      <td>1755</td>\n",
       "      <td>922</td>\n",
       "      <td>224</td>\n",
       "    </tr>\n",
       "    <tr>\n",
       "      <td>5</td>\n",
       "      <td>832</td>\n",
       "      <td>303</td>\n",
       "      <td>32</td>\n",
       "      <td>36</td>\n",
       "      <td>107</td>\n",
       "      <td>302</td>\n",
       "      <td>160</td>\n",
       "      <td>608</td>\n",
       "      <td>544</td>\n",
       "      <td>879</td>\n",
       "      <td>...</td>\n",
       "      <td>284</td>\n",
       "      <td>87</td>\n",
       "      <td>248</td>\n",
       "      <td>148</td>\n",
       "      <td>263</td>\n",
       "      <td>37</td>\n",
       "      <td>681</td>\n",
       "      <td>297</td>\n",
       "      <td>2398</td>\n",
       "      <td>939</td>\n",
       "    </tr>\n",
       "    <tr>\n",
       "      <td>6</td>\n",
       "      <td>882</td>\n",
       "      <td>84</td>\n",
       "      <td>43</td>\n",
       "      <td>3</td>\n",
       "      <td>1230</td>\n",
       "      <td>177</td>\n",
       "      <td>84</td>\n",
       "      <td>863</td>\n",
       "      <td>213</td>\n",
       "      <td>411</td>\n",
       "      <td>...</td>\n",
       "      <td>80</td>\n",
       "      <td>358</td>\n",
       "      <td>179</td>\n",
       "      <td>203</td>\n",
       "      <td>45</td>\n",
       "      <td>84</td>\n",
       "      <td>723</td>\n",
       "      <td>103</td>\n",
       "      <td>1909</td>\n",
       "      <td>437</td>\n",
       "    </tr>\n",
       "    <tr>\n",
       "      <td>7</td>\n",
       "      <td>490</td>\n",
       "      <td>70</td>\n",
       "      <td>113</td>\n",
       "      <td>4</td>\n",
       "      <td>1081</td>\n",
       "      <td>577</td>\n",
       "      <td>165</td>\n",
       "      <td>284</td>\n",
       "      <td>195</td>\n",
       "      <td>276</td>\n",
       "      <td>...</td>\n",
       "      <td>159</td>\n",
       "      <td>69</td>\n",
       "      <td>126</td>\n",
       "      <td>394</td>\n",
       "      <td>21</td>\n",
       "      <td>78</td>\n",
       "      <td>911</td>\n",
       "      <td>964</td>\n",
       "      <td>171</td>\n",
       "      <td>296</td>\n",
       "    </tr>\n",
       "    <tr>\n",
       "      <td>8</td>\n",
       "      <td>1010</td>\n",
       "      <td>0</td>\n",
       "      <td>119</td>\n",
       "      <td>3</td>\n",
       "      <td>2319</td>\n",
       "      <td>243</td>\n",
       "      <td>386</td>\n",
       "      <td>104</td>\n",
       "      <td>228</td>\n",
       "      <td>174</td>\n",
       "      <td>...</td>\n",
       "      <td>115</td>\n",
       "      <td>59</td>\n",
       "      <td>90</td>\n",
       "      <td>133</td>\n",
       "      <td>380</td>\n",
       "      <td>89</td>\n",
       "      <td>424</td>\n",
       "      <td>64</td>\n",
       "      <td>221</td>\n",
       "      <td>831</td>\n",
       "    </tr>\n",
       "    <tr>\n",
       "      <td>9</td>\n",
       "      <td>384</td>\n",
       "      <td>236</td>\n",
       "      <td>0</td>\n",
       "      <td>1</td>\n",
       "      <td>298</td>\n",
       "      <td>189</td>\n",
       "      <td>832</td>\n",
       "      <td>221</td>\n",
       "      <td>874</td>\n",
       "      <td>240</td>\n",
       "      <td>...</td>\n",
       "      <td>209</td>\n",
       "      <td>81</td>\n",
       "      <td>286</td>\n",
       "      <td>896</td>\n",
       "      <td>264</td>\n",
       "      <td>82</td>\n",
       "      <td>476</td>\n",
       "      <td>353</td>\n",
       "      <td>424</td>\n",
       "      <td>604</td>\n",
       "    </tr>\n",
       "    <tr>\n",
       "      <td>10</td>\n",
       "      <td>935</td>\n",
       "      <td>1</td>\n",
       "      <td>1</td>\n",
       "      <td>971</td>\n",
       "      <td>959</td>\n",
       "      <td>306</td>\n",
       "      <td>364</td>\n",
       "      <td>120</td>\n",
       "      <td>127</td>\n",
       "      <td>95</td>\n",
       "      <td>...</td>\n",
       "      <td>81</td>\n",
       "      <td>375</td>\n",
       "      <td>82</td>\n",
       "      <td>231</td>\n",
       "      <td>106</td>\n",
       "      <td>115</td>\n",
       "      <td>229</td>\n",
       "      <td>604</td>\n",
       "      <td>225</td>\n",
       "      <td>0</td>\n",
       "    </tr>\n",
       "    <tr>\n",
       "      <td>11</td>\n",
       "      <td>978</td>\n",
       "      <td>2</td>\n",
       "      <td>4</td>\n",
       "      <td>660</td>\n",
       "      <td>1476</td>\n",
       "      <td>288</td>\n",
       "      <td>40</td>\n",
       "      <td>86</td>\n",
       "      <td>425</td>\n",
       "      <td>54</td>\n",
       "      <td>...</td>\n",
       "      <td>637</td>\n",
       "      <td>89</td>\n",
       "      <td>177</td>\n",
       "      <td>576</td>\n",
       "      <td>57</td>\n",
       "      <td>321</td>\n",
       "      <td>1840</td>\n",
       "      <td>605</td>\n",
       "      <td>230</td>\n",
       "      <td>0</td>\n",
       "    </tr>\n",
       "    <tr>\n",
       "      <td>12</td>\n",
       "      <td>306</td>\n",
       "      <td>30</td>\n",
       "      <td>7</td>\n",
       "      <td>718</td>\n",
       "      <td>590</td>\n",
       "      <td>467</td>\n",
       "      <td>522</td>\n",
       "      <td>184</td>\n",
       "      <td>42</td>\n",
       "      <td>60</td>\n",
       "      <td>...</td>\n",
       "      <td>374</td>\n",
       "      <td>125</td>\n",
       "      <td>134</td>\n",
       "      <td>272</td>\n",
       "      <td>81</td>\n",
       "      <td>198</td>\n",
       "      <td>445</td>\n",
       "      <td>203</td>\n",
       "      <td>536</td>\n",
       "      <td>0</td>\n",
       "    </tr>\n",
       "  </tbody>\n",
       "</table>\n",
       "<p>12 rows × 23 columns</p>\n",
       "</div>"
      ],
      "text/plain": [
       "year   1996  1997  1998  1999  2000  2001  2002  2003  2004  2005  ...  2009  \\\n",
       "month                                                              ...         \n",
       "1         0   250    57     4   297  1106    52   501   139  1177  ...   510   \n",
       "2         0   323     1    32   303    70   146   156   158   445  ...   494   \n",
       "3        58   398   130     7   779    37    94   840   218  1038  ...  1083   \n",
       "4       165   219     0     0   622   160   633    47   111   969  ...   137   \n",
       "5       832   303    32    36   107   302   160   608   544   879  ...   284   \n",
       "6       882    84    43     3  1230   177    84   863   213   411  ...    80   \n",
       "7       490    70   113     4  1081   577   165   284   195   276  ...   159   \n",
       "8      1010     0   119     3  2319   243   386   104   228   174  ...   115   \n",
       "9       384   236     0     1   298   189   832   221   874   240  ...   209   \n",
       "10      935     1     1   971   959   306   364   120   127    95  ...    81   \n",
       "11      978     2     4   660  1476   288    40    86   425    54  ...   637   \n",
       "12      306    30     7   718   590   467   522   184    42    60  ...   374   \n",
       "\n",
       "year   2010  2011  2012  2013  2014  2015  2016  2017  2018  \n",
       "month                                                        \n",
       "1       139   154   499   150    57   375   344   194   886  \n",
       "2       253   106   244    44   358   216   569   420  1233  \n",
       "3       345    85   538    57    13    89   841   549   968  \n",
       "4       321    23   523   196     7   207  1755   922   224  \n",
       "5        87   248   148   263    37   681   297  2398   939  \n",
       "6       358   179   203    45    84   723   103  1909   437  \n",
       "7        69   126   394    21    78   911   964   171   296  \n",
       "8        59    90   133   380    89   424    64   221   831  \n",
       "9        81   286   896   264    82   476   353   424   604  \n",
       "10      375    82   231   106   115   229   604   225     0  \n",
       "11       89   177   576    57   321  1840   605   230     0  \n",
       "12      125   134   272    81   198   445   203   536     0  \n",
       "\n",
       "[12 rows x 23 columns]"
      ]
     },
     "execution_count": 56,
     "metadata": {},
     "output_type": "execute_result"
    }
   ],
   "source": [
    "pd.crosstab(index=dfratings['month'],columns=dfratings['year'])"
   ]
  },
  {
   "cell_type": "markdown",
   "metadata": {},
   "source": [
    "### Exploratory Analysis: User History in Terms of Number of Ratings"
   ]
  },
  {
   "cell_type": "code",
   "execution_count": 57,
   "metadata": {},
   "outputs": [],
   "source": [
    "dfratings.sort_values(by=['userId','timestamp'],ascending=[True,True],inplace=True)"
   ]
  },
  {
   "cell_type": "code",
   "execution_count": 58,
   "metadata": {},
   "outputs": [],
   "source": [
    "dfratings['seqNum']=dfratings.groupby('userId').cumcount()+1"
   ]
  },
  {
   "cell_type": "code",
   "execution_count": 59,
   "metadata": {},
   "outputs": [
    {
     "data": {
      "text/plain": [
       "Text(0.5, 1.0, 'History about each user that is available')"
      ]
     },
     "execution_count": 59,
     "metadata": {},
     "output_type": "execute_result"
    },
    {
     "data": {
      "image/png": "[encoded data removed]",
      "text/plain": [
       "<Figure size 432x288 with 1 Axes>"
      ]
     },
     "metadata": {
      "needs_background": "light"
     },
     "output_type": "display_data"
    }
   ],
   "source": [
    "ax=sns.boxplot(dfratings.loc[dfratings['year']>2014,'seqNum'])\n",
    "ax.set_title('History about each user that is available')"
   ]
  },
  {
   "cell_type": "code",
   "execution_count": 60,
   "metadata": {},
   "outputs": [
    {
     "data": {
      "text/plain": [
       "1996    97\n",
       "1997    27\n",
       "1998     9\n",
       "1999    26\n",
       "2000    48\n",
       "2001    20\n",
       "2002    14\n",
       "2003    20\n",
       "2004    11\n",
       "2005    24\n",
       "2006    23\n",
       "2007    22\n",
       "2008    22\n",
       "2009    21\n",
       "2010    15\n",
       "2011    22\n",
       "2012    25\n",
       "2013    13\n",
       "2014     8\n",
       "2015    47\n",
       "2016    32\n",
       "2017    35\n",
       "2018    29\n",
       "Name: year, dtype: int64"
      ]
     },
     "execution_count": 60,
     "metadata": {},
     "output_type": "execute_result"
    }
   ],
   "source": [
    "dfratings.loc[dfratings['seqNum']==1].year.value_counts().sort_index()"
   ]
  },
  {
   "cell_type": "markdown",
   "metadata": {},
   "source": [
    "### Exploratory Analysis: New Users by Year"
   ]
  },
  {
   "cell_type": "code",
   "execution_count": 61,
   "metadata": {},
   "outputs": [],
   "source": [
    "temp=dfratings.loc[dfratings['seqNum']==1].year.value_counts().sort_index()"
   ]
  },
  {
   "cell_type": "code",
   "execution_count": 62,
   "metadata": {},
   "outputs": [],
   "source": [
    "temp=pd.DataFrame(temp)"
   ]
  },
  {
   "cell_type": "code",
   "execution_count": 63,
   "metadata": {},
   "outputs": [
    {
     "data": {
      "text/html": [
       "<div>\n",
       "<style scoped>\n",
       "    .dataframe tbody tr th:only-of-type {\n",
       "        vertical-align: middle;\n",
       "    }\n",
       "\n",
       "    .dataframe tbody tr th {\n",
       "        vertical-align: top;\n",
       "    }\n",
       "\n",
       "    .dataframe thead th {\n",
       "        text-align: right;\n",
       "    }\n",
       "</style>\n",
       "<table border=\"1\" class=\"dataframe\">\n",
       "  <thead>\n",
       "    <tr style=\"text-align: right;\">\n",
       "      <th></th>\n",
       "      <th>year</th>\n",
       "    </tr>\n",
       "  </thead>\n",
       "  <tbody>\n",
       "    <tr>\n",
       "      <td>1996</td>\n",
       "      <td>97</td>\n",
       "    </tr>\n",
       "    <tr>\n",
       "      <td>1997</td>\n",
       "      <td>27</td>\n",
       "    </tr>\n",
       "    <tr>\n",
       "      <td>1998</td>\n",
       "      <td>9</td>\n",
       "    </tr>\n",
       "    <tr>\n",
       "      <td>1999</td>\n",
       "      <td>26</td>\n",
       "    </tr>\n",
       "    <tr>\n",
       "      <td>2000</td>\n",
       "      <td>48</td>\n",
       "    </tr>\n",
       "  </tbody>\n",
       "</table>\n",
       "</div>"
      ],
      "text/plain": [
       "      year\n",
       "1996    97\n",
       "1997    27\n",
       "1998     9\n",
       "1999    26\n",
       "2000    48"
      ]
     },
     "execution_count": 63,
     "metadata": {},
     "output_type": "execute_result"
    }
   ],
   "source": [
    "temp.head()"
   ]
  },
  {
   "cell_type": "code",
   "execution_count": 64,
   "metadata": {},
   "outputs": [],
   "source": [
    "temp.reset_index(inplace=True)"
   ]
  },
  {
   "cell_type": "code",
   "execution_count": 65,
   "metadata": {},
   "outputs": [],
   "source": [
    "temp.columns=['year','new_Users']"
   ]
  },
  {
   "cell_type": "code",
   "execution_count": 66,
   "metadata": {},
   "outputs": [
    {
     "data": {
      "text/plain": [
       "Text(0, 0.5, 'New Users')"
      ]
     },
     "execution_count": 66,
     "metadata": {},
     "output_type": "execute_result"
    },
    {
     "data": {
      "image/png": "[encoded data removed]",
      "text/plain": [
       "<Figure size 864x576 with 1 Axes>"
      ]
     },
     "metadata": {
      "needs_background": "light"
     },
     "output_type": "display_data"
    }
   ],
   "source": [
    "figure=plt.figure(figsize=(12,8))\n",
    "ax=sns.barplot(x=temp['year'],y=temp['new_Users'])\n",
    "ax.set_title('New Users by Year')\n",
    "ax.set_ylabel ('New Users')"
   ]
  },
  {
   "cell_type": "markdown",
   "metadata": {},
   "source": [
    "# Cross Validation Strategy"
   ]
  },
  {
   "cell_type": "code",
   "execution_count": 67,
   "metadata": {},
   "outputs": [],
   "source": [
    "# Strategy: First 70% of the ratings per user as training and the rest as validation"
   ]
  },
  {
   "cell_type": "code",
   "execution_count": 68,
   "metadata": {},
   "outputs": [],
   "source": [
    "trainfrac=0.7"
   ]
  },
  {
   "cell_type": "code",
   "execution_count": 69,
   "metadata": {},
   "outputs": [],
   "source": [
    "dfmaxseqnum=dfratings.groupby('userId')['seqNum'].max()\n",
    "dfmaxseqnum=pd.DataFrame(dfmaxseqnum)\n",
    "dfmaxseqnum.reset_index(inplace=True)\n",
    "dfmaxseqnum.columns=['userId','max_seqNum']\n"
   ]
  },
  {
   "cell_type": "code",
   "execution_count": 70,
   "metadata": {},
   "outputs": [
    {
     "data": {
      "text/html": [
       "<div>\n",
       "<style scoped>\n",
       "    .dataframe tbody tr th:only-of-type {\n",
       "        vertical-align: middle;\n",
       "    }\n",
       "\n",
       "    .dataframe tbody tr th {\n",
       "        vertical-align: top;\n",
       "    }\n",
       "\n",
       "    .dataframe thead th {\n",
       "        text-align: right;\n",
       "    }\n",
       "</style>\n",
       "<table border=\"1\" class=\"dataframe\">\n",
       "  <thead>\n",
       "    <tr style=\"text-align: right;\">\n",
       "      <th></th>\n",
       "      <th>userId</th>\n",
       "      <th>max_seqNum</th>\n",
       "    </tr>\n",
       "  </thead>\n",
       "  <tbody>\n",
       "    <tr>\n",
       "      <td>0</td>\n",
       "      <td>1</td>\n",
       "      <td>232</td>\n",
       "    </tr>\n",
       "    <tr>\n",
       "      <td>1</td>\n",
       "      <td>2</td>\n",
       "      <td>29</td>\n",
       "    </tr>\n",
       "    <tr>\n",
       "      <td>2</td>\n",
       "      <td>3</td>\n",
       "      <td>39</td>\n",
       "    </tr>\n",
       "    <tr>\n",
       "      <td>3</td>\n",
       "      <td>4</td>\n",
       "      <td>216</td>\n",
       "    </tr>\n",
       "    <tr>\n",
       "      <td>4</td>\n",
       "      <td>5</td>\n",
       "      <td>44</td>\n",
       "    </tr>\n",
       "  </tbody>\n",
       "</table>\n",
       "</div>"
      ],
      "text/plain": [
       "   userId  max_seqNum\n",
       "0       1         232\n",
       "1       2          29\n",
       "2       3          39\n",
       "3       4         216\n",
       "4       5          44"
      ]
     },
     "execution_count": 70,
     "metadata": {},
     "output_type": "execute_result"
    }
   ],
   "source": [
    "dfmaxseqnum.head()"
   ]
  },
  {
   "cell_type": "code",
   "execution_count": 71,
   "metadata": {},
   "outputs": [],
   "source": [
    "dfratings=pd.merge(dfratings,dfmaxseqnum,on='userId',how='left')"
   ]
  },
  {
   "cell_type": "code",
   "execution_count": 72,
   "metadata": {},
   "outputs": [
    {
     "data": {
      "text/html": [
       "<div>\n",
       "<style scoped>\n",
       "    .dataframe tbody tr th:only-of-type {\n",
       "        vertical-align: middle;\n",
       "    }\n",
       "\n",
       "    .dataframe tbody tr th {\n",
       "        vertical-align: top;\n",
       "    }\n",
       "\n",
       "    .dataframe thead th {\n",
       "        text-align: right;\n",
       "    }\n",
       "</style>\n",
       "<table border=\"1\" class=\"dataframe\">\n",
       "  <thead>\n",
       "    <tr style=\"text-align: right;\">\n",
       "      <th></th>\n",
       "      <th>userId</th>\n",
       "      <th>movieId</th>\n",
       "      <th>rating</th>\n",
       "      <th>timestamp</th>\n",
       "      <th>year</th>\n",
       "      <th>month</th>\n",
       "      <th>seqNum</th>\n",
       "      <th>max_seqNum</th>\n",
       "    </tr>\n",
       "  </thead>\n",
       "  <tbody>\n",
       "    <tr>\n",
       "      <td>0</td>\n",
       "      <td>1</td>\n",
       "      <td>804</td>\n",
       "      <td>4.0</td>\n",
       "      <td>2000-07-30 23:38:19</td>\n",
       "      <td>2000</td>\n",
       "      <td>7</td>\n",
       "      <td>1</td>\n",
       "      <td>232</td>\n",
       "    </tr>\n",
       "    <tr>\n",
       "      <td>1</td>\n",
       "      <td>1</td>\n",
       "      <td>1210</td>\n",
       "      <td>5.0</td>\n",
       "      <td>2000-07-30 23:38:19</td>\n",
       "      <td>2000</td>\n",
       "      <td>7</td>\n",
       "      <td>2</td>\n",
       "      <td>232</td>\n",
       "    </tr>\n",
       "    <tr>\n",
       "      <td>2</td>\n",
       "      <td>1</td>\n",
       "      <td>2018</td>\n",
       "      <td>5.0</td>\n",
       "      <td>2000-07-30 23:38:43</td>\n",
       "      <td>2000</td>\n",
       "      <td>7</td>\n",
       "      <td>3</td>\n",
       "      <td>232</td>\n",
       "    </tr>\n",
       "    <tr>\n",
       "      <td>3</td>\n",
       "      <td>1</td>\n",
       "      <td>2628</td>\n",
       "      <td>4.0</td>\n",
       "      <td>2000-07-30 23:38:43</td>\n",
       "      <td>2000</td>\n",
       "      <td>7</td>\n",
       "      <td>4</td>\n",
       "      <td>232</td>\n",
       "    </tr>\n",
       "    <tr>\n",
       "      <td>4</td>\n",
       "      <td>1</td>\n",
       "      <td>2826</td>\n",
       "      <td>4.0</td>\n",
       "      <td>2000-07-30 23:38:43</td>\n",
       "      <td>2000</td>\n",
       "      <td>7</td>\n",
       "      <td>5</td>\n",
       "      <td>232</td>\n",
       "    </tr>\n",
       "  </tbody>\n",
       "</table>\n",
       "</div>"
      ],
      "text/plain": [
       "   userId  movieId  rating           timestamp  year  month  seqNum  \\\n",
       "0       1      804     4.0 2000-07-30 23:38:19  2000      7       1   \n",
       "1       1     1210     5.0 2000-07-30 23:38:19  2000      7       2   \n",
       "2       1     2018     5.0 2000-07-30 23:38:43  2000      7       3   \n",
       "3       1     2628     4.0 2000-07-30 23:38:43  2000      7       4   \n",
       "4       1     2826     4.0 2000-07-30 23:38:43  2000      7       5   \n",
       "\n",
       "   max_seqNum  \n",
       "0         232  \n",
       "1         232  \n",
       "2         232  \n",
       "3         232  \n",
       "4         232  "
      ]
     },
     "execution_count": 72,
     "metadata": {},
     "output_type": "execute_result"
    }
   ],
   "source": [
    "dfratings.head()"
   ]
  },
  {
   "cell_type": "code",
   "execution_count": 73,
   "metadata": {},
   "outputs": [],
   "source": [
    "dfratings['flag_train']=np.where(dfratings['seqNum']<=trainfrac*dfratings['max_seqNum'],1,0)"
   ]
  },
  {
   "cell_type": "code",
   "execution_count": 74,
   "metadata": {},
   "outputs": [
    {
     "data": {
      "text/plain": [
       "1    70312\n",
       "0    30524\n",
       "Name: flag_train, dtype: int64"
      ]
     },
     "execution_count": 74,
     "metadata": {},
     "output_type": "execute_result"
    }
   ],
   "source": [
    "dfratings['flag_train'].value_counts()"
   ]
  },
  {
   "cell_type": "code",
   "execution_count": 75,
   "metadata": {},
   "outputs": [],
   "source": [
    "dftrain=dfratings.loc[dfratings['flag_train']==1,:]"
   ]
  },
  {
   "cell_type": "code",
   "execution_count": 76,
   "metadata": {},
   "outputs": [],
   "source": [
    "dfvalid=dfratings.loc[dfratings['flag_train']==0,:]"
   ]
  },
  {
   "cell_type": "code",
   "execution_count": 77,
   "metadata": {},
   "outputs": [
    {
     "data": {
      "text/plain": [
       "(70312, 9)"
      ]
     },
     "execution_count": 77,
     "metadata": {},
     "output_type": "execute_result"
    }
   ],
   "source": [
    "dftrain.shape"
   ]
  },
  {
   "cell_type": "code",
   "execution_count": 78,
   "metadata": {},
   "outputs": [
    {
     "data": {
      "text/plain": [
       "(30524, 9)"
      ]
     },
     "execution_count": 78,
     "metadata": {},
     "output_type": "execute_result"
    }
   ],
   "source": [
    "dfvalid.shape"
   ]
  },
  {
   "cell_type": "markdown",
   "metadata": {},
   "source": [
    "# Using the Data Loader in PyTorch"
   ]
  },
  {
   "cell_type": "code",
   "execution_count": 79,
   "metadata": {},
   "outputs": [],
   "source": [
    "from torch.utils import data"
   ]
  },
  {
   "cell_type": "code",
   "execution_count": 80,
   "metadata": {},
   "outputs": [],
   "source": [
    "user2idx={j:i for i,j in enumerate(dftrain['userId'].unique())}\n",
    "movie2idx={j:i for i,j in enumerate(dftrain['movieId'].unique())}"
   ]
  },
  {
   "cell_type": "code",
   "execution_count": 81,
   "metadata": {},
   "outputs": [],
   "source": [
    "num_users=len(user2idx)\n",
    "num_movies=len(movie2idx)"
   ]
  },
  {
   "cell_type": "code",
   "execution_count": 82,
   "metadata": {},
   "outputs": [
    {
     "name": "stderr",
     "output_type": "stream",
     "text": [
      "/Users/rki/opt/anaconda3/lib/python3.7/site-packages/ipykernel_launcher.py:1: SettingWithCopyWarning: \n",
      "A value is trying to be set on a copy of a slice from a DataFrame.\n",
      "Try using .loc[row_indexer,col_indexer] = value instead\n",
      "\n",
      "See the caveats in the documentation: http://pandas.pydata.org/pandas-docs/stable/user_guide/indexing.html#returning-a-view-versus-a-copy\n",
      "  \"\"\"Entry point for launching an IPython kernel.\n",
      "/Users/rki/opt/anaconda3/lib/python3.7/site-packages/ipykernel_launcher.py:2: SettingWithCopyWarning: \n",
      "A value is trying to be set on a copy of a slice from a DataFrame.\n",
      "Try using .loc[row_indexer,col_indexer] = value instead\n",
      "\n",
      "See the caveats in the documentation: http://pandas.pydata.org/pandas-docs/stable/user_guide/indexing.html#returning-a-view-versus-a-copy\n",
      "  \n"
     ]
    }
   ],
   "source": [
    "dftrain['userId']=[user2idx[i] for i in dftrain['userId']]\n",
    "dftrain['movieId']=[movie2idx[i] for i in dftrain['movieId']]"
   ]
  },
  {
   "cell_type": "code",
   "execution_count": 83,
   "metadata": {},
   "outputs": [
    {
     "name": "stderr",
     "output_type": "stream",
     "text": [
      "/Users/rki/opt/anaconda3/lib/python3.7/site-packages/ipykernel_launcher.py:1: SettingWithCopyWarning: \n",
      "A value is trying to be set on a copy of a slice from a DataFrame.\n",
      "Try using .loc[row_indexer,col_indexer] = value instead\n",
      "\n",
      "See the caveats in the documentation: http://pandas.pydata.org/pandas-docs/stable/user_guide/indexing.html#returning-a-view-versus-a-copy\n",
      "  \"\"\"Entry point for launching an IPython kernel.\n",
      "/Users/rki/opt/anaconda3/lib/python3.7/site-packages/ipykernel_launcher.py:2: SettingWithCopyWarning: \n",
      "A value is trying to be set on a copy of a slice from a DataFrame.\n",
      "Try using .loc[row_indexer,col_indexer] = value instead\n",
      "\n",
      "See the caveats in the documentation: http://pandas.pydata.org/pandas-docs/stable/user_guide/indexing.html#returning-a-view-versus-a-copy\n",
      "  \n"
     ]
    }
   ],
   "source": [
    "dfvalid['userId']=[user2idx.get(i,num_users) for i in dfvalid['userId']]\n",
    "dfvalid['movieId']=[movie2idx.get(i,num_movies) for i in dfvalid['movieId']]"
   ]
  },
  {
   "cell_type": "code",
   "execution_count": 84,
   "metadata": {},
   "outputs": [],
   "source": [
    "class cfdata (torch.utils.data.dataset.Dataset):\n",
    "    def __init__(self,dfX,dfY):\n",
    "        self.dfX,self.dfY=dfX,dfY\n",
    "        \n",
    "        \n",
    "    def __len__ (self):\n",
    "        return self.dfX.shape[0]\n",
    "    \n",
    "    def __getitem__ (self, idx):\n",
    "        return torch.LongTensor(self.dfX.iloc[idx].values),torch.FloatTensor([self.dfY.values[idx]])\n",
    "        "
   ]
  },
  {
   "cell_type": "code",
   "execution_count": 85,
   "metadata": {},
   "outputs": [
    {
     "data": {
      "text/plain": [
       "Index(['userId', 'movieId', 'rating', 'timestamp', 'year', 'month', 'seqNum',\n",
       "       'max_seqNum', 'flag_train'],\n",
       "      dtype='object')"
      ]
     },
     "execution_count": 85,
     "metadata": {},
     "output_type": "execute_result"
    }
   ],
   "source": [
    "dftrain.columns"
   ]
  },
  {
   "cell_type": "code",
   "execution_count": 86,
   "metadata": {},
   "outputs": [
    {
     "data": {
      "text/plain": [
       "pandas.core.series.Series"
      ]
     },
     "execution_count": 86,
     "metadata": {},
     "output_type": "execute_result"
    }
   ],
   "source": [
    "type(dftrain['rating'])"
   ]
  },
  {
   "cell_type": "code",
   "execution_count": 87,
   "metadata": {},
   "outputs": [
    {
     "ename": "ImportError",
     "evalue": "Missing optional dependency 'pyarrow'.  Use pip or conda to install pyarrow.",
     "output_type": "error",
     "traceback": [
      "\u001b[0;31m---------------------------------------------------------------------------\u001b[0m",
      "\u001b[0;31mImportError\u001b[0m                               Traceback (most recent call last)",
      "\u001b[0;32m<ipython-input-87-84c117691398>\u001b[0m in \u001b[0;36m<module>\u001b[0;34m\u001b[0m\n\u001b[1;32m      1\u001b[0m \u001b[0mdftrain\u001b[0m\u001b[0;34m.\u001b[0m\u001b[0mreset_index\u001b[0m\u001b[0;34m(\u001b[0m\u001b[0minplace\u001b[0m\u001b[0;34m=\u001b[0m\u001b[0;32mTrue\u001b[0m\u001b[0;34m)\u001b[0m\u001b[0;34m\u001b[0m\u001b[0;34m\u001b[0m\u001b[0m\n\u001b[1;32m      2\u001b[0m \u001b[0mdfvalid\u001b[0m\u001b[0;34m.\u001b[0m\u001b[0mreset_index\u001b[0m\u001b[0;34m(\u001b[0m\u001b[0minplace\u001b[0m\u001b[0;34m=\u001b[0m\u001b[0;32mTrue\u001b[0m\u001b[0;34m)\u001b[0m\u001b[0;34m\u001b[0m\u001b[0;34m\u001b[0m\u001b[0m\n\u001b[0;32m----> 3\u001b[0;31m \u001b[0mdftrain\u001b[0m\u001b[0;34m.\u001b[0m\u001b[0mto_feather\u001b[0m\u001b[0;34m(\u001b[0m\u001b[0;34mf'{PATH}/dftrain-raw'\u001b[0m\u001b[0;34m)\u001b[0m\u001b[0;34m\u001b[0m\u001b[0;34m\u001b[0m\u001b[0m\n\u001b[0m\u001b[1;32m      4\u001b[0m \u001b[0mdfvalid\u001b[0m\u001b[0;34m.\u001b[0m\u001b[0mto_feather\u001b[0m\u001b[0;34m(\u001b[0m\u001b[0;34mf'{PATH}/dfvalid-raw'\u001b[0m\u001b[0;34m)\u001b[0m\u001b[0;34m\u001b[0m\u001b[0;34m\u001b[0m\u001b[0m\n",
      "\u001b[0;32m~/opt/anaconda3/lib/python3.7/site-packages/pandas/core/frame.py\u001b[0m in \u001b[0;36mto_feather\u001b[0;34m(self, fname)\u001b[0m\n\u001b[1;32m   2135\u001b[0m         \u001b[0;32mfrom\u001b[0m \u001b[0mpandas\u001b[0m\u001b[0;34m.\u001b[0m\u001b[0mio\u001b[0m\u001b[0;34m.\u001b[0m\u001b[0mfeather_format\u001b[0m \u001b[0;32mimport\u001b[0m \u001b[0mto_feather\u001b[0m\u001b[0;34m\u001b[0m\u001b[0;34m\u001b[0m\u001b[0m\n\u001b[1;32m   2136\u001b[0m \u001b[0;34m\u001b[0m\u001b[0m\n\u001b[0;32m-> 2137\u001b[0;31m         \u001b[0mto_feather\u001b[0m\u001b[0;34m(\u001b[0m\u001b[0mself\u001b[0m\u001b[0;34m,\u001b[0m \u001b[0mfname\u001b[0m\u001b[0;34m)\u001b[0m\u001b[0;34m\u001b[0m\u001b[0;34m\u001b[0m\u001b[0m\n\u001b[0m\u001b[1;32m   2138\u001b[0m \u001b[0;34m\u001b[0m\u001b[0m\n\u001b[1;32m   2139\u001b[0m     def to_parquet(\n",
      "\u001b[0;32m~/opt/anaconda3/lib/python3.7/site-packages/pandas/io/feather_format.py\u001b[0m in \u001b[0;36mto_feather\u001b[0;34m(df, path)\u001b[0m\n\u001b[1;32m     21\u001b[0m \u001b[0;34m\u001b[0m\u001b[0m\n\u001b[1;32m     22\u001b[0m     \"\"\"\n\u001b[0;32m---> 23\u001b[0;31m     \u001b[0mimport_optional_dependency\u001b[0m\u001b[0;34m(\u001b[0m\u001b[0;34m\"pyarrow\"\u001b[0m\u001b[0;34m)\u001b[0m\u001b[0;34m\u001b[0m\u001b[0;34m\u001b[0m\u001b[0m\n\u001b[0m\u001b[1;32m     24\u001b[0m     \u001b[0;32mfrom\u001b[0m \u001b[0mpyarrow\u001b[0m \u001b[0;32mimport\u001b[0m \u001b[0mfeather\u001b[0m\u001b[0;34m\u001b[0m\u001b[0;34m\u001b[0m\u001b[0m\n\u001b[1;32m     25\u001b[0m \u001b[0;34m\u001b[0m\u001b[0m\n",
      "\u001b[0;32m~/opt/anaconda3/lib/python3.7/site-packages/pandas/compat/_optional.py\u001b[0m in \u001b[0;36mimport_optional_dependency\u001b[0;34m(name, extra, raise_on_missing, on_version)\u001b[0m\n\u001b[1;32m     91\u001b[0m     \u001b[0;32mexcept\u001b[0m \u001b[0mImportError\u001b[0m\u001b[0;34m:\u001b[0m\u001b[0;34m\u001b[0m\u001b[0;34m\u001b[0m\u001b[0m\n\u001b[1;32m     92\u001b[0m         \u001b[0;32mif\u001b[0m \u001b[0mraise_on_missing\u001b[0m\u001b[0;34m:\u001b[0m\u001b[0;34m\u001b[0m\u001b[0;34m\u001b[0m\u001b[0m\n\u001b[0;32m---> 93\u001b[0;31m             \u001b[0;32mraise\u001b[0m \u001b[0mImportError\u001b[0m\u001b[0;34m(\u001b[0m\u001b[0mmessage\u001b[0m\u001b[0;34m.\u001b[0m\u001b[0mformat\u001b[0m\u001b[0;34m(\u001b[0m\u001b[0mname\u001b[0m\u001b[0;34m=\u001b[0m\u001b[0mname\u001b[0m\u001b[0;34m,\u001b[0m \u001b[0mextra\u001b[0m\u001b[0;34m=\u001b[0m\u001b[0mextra\u001b[0m\u001b[0;34m)\u001b[0m\u001b[0;34m)\u001b[0m \u001b[0;32mfrom\u001b[0m \u001b[0;32mNone\u001b[0m\u001b[0;34m\u001b[0m\u001b[0;34m\u001b[0m\u001b[0m\n\u001b[0m\u001b[1;32m     94\u001b[0m         \u001b[0;32melse\u001b[0m\u001b[0;34m:\u001b[0m\u001b[0;34m\u001b[0m\u001b[0;34m\u001b[0m\u001b[0m\n\u001b[1;32m     95\u001b[0m             \u001b[0;32mreturn\u001b[0m \u001b[0;32mNone\u001b[0m\u001b[0;34m\u001b[0m\u001b[0;34m\u001b[0m\u001b[0m\n",
      "\u001b[0;31mImportError\u001b[0m: Missing optional dependency 'pyarrow'.  Use pip or conda to install pyarrow."
     ]
    }
   ],
   "source": [
    "dftrain.reset_index(inplace=True)\n",
    "dfvalid.reset_index(inplace=True)\n",
    "#dftrain.to_feather(f'{PATH}/dftrain-raw')\n",
    "#dfvalid.to_feather(f'{PATH}/dfvalid-raw')"
   ]
  },
  {
   "cell_type": "code",
   "execution_count": 89,
   "metadata": {},
   "outputs": [],
   "source": [
    "dstrain=cfdata(dftrain[['userId','movieId']],dftrain['rating'])\n",
    "dsvalid=cfdata(dfvalid[['userId','movieId']],dfvalid['rating'])"
   ]
  },
  {
   "cell_type": "markdown",
   "metadata": {},
   "source": [
    "## Create a DataLoader object"
   ]
  },
  {
   "cell_type": "code",
   "execution_count": 90,
   "metadata": {},
   "outputs": [],
   "source": [
    "dltrain=torch.utils.data.DataLoader(dstrain,batch_size=256,shuffle=True)\n",
    "dlvalid=torch.utils.data.DataLoader(dsvalid,batch_size=dfvalid.shape[0],shuffle=False) # \n",
    "#dltrainbig=torch.utils.data.DataLoader(dstrain,batch_size=dftrain.shape[0],shuffle=False)"
   ]
  },
  {
   "cell_type": "code",
   "execution_count": 91,
   "metadata": {},
   "outputs": [
    {
     "data": {
      "text/plain": [
       "<torch.utils.data.dataloader.DataLoader at 0x7f8b2b130e90>"
      ]
     },
     "execution_count": 91,
     "metadata": {},
     "output_type": "execute_result"
    }
   ],
   "source": [
    "dltrain"
   ]
  },
  {
   "cell_type": "markdown",
   "metadata": {},
   "source": [
    "# Collaborative Filtering"
   ]
  },
  {
   "cell_type": "code",
   "execution_count": 97,
   "metadata": {},
   "outputs": [],
   "source": [
    "class cf (torch.nn.Module):\n",
    "    # Create network architecture\n",
    "    def __init__ (self,dltrain,dlvalid,num_users,num_movies,min_rating,max_rating,num_factors=8,num_epochs=1):\n",
    "        super(cf,self).__init__()\n",
    "        self.dltrain,self.dlvalid,self.num_users,self.num_movies,self.num_factors,self.min_rating,self.max_rating=\\\n",
    "            dltrain,dlvalid,num_factors,num_users,num_movies,min_rating,max_rating\n",
    "        self.u,self.i,self.ub,self.ib=torch.nn.Embedding(num_users+1,num_factors),\\\n",
    "            torch.nn.Embedding(num_movies+1,num_factors),torch.nn.Embedding(num_users+1,1),\\\n",
    "            torch.nn.Embedding(num_movies+1,1)\n",
    "        self.u.weight.data.uniform_(0,0.01)\n",
    "        self.i.weight.data.uniform_(0,0.01)\n",
    "        self.ub.weight.data.uniform_(0,0.01)\n",
    "        self.ib.weight.data.uniform_(0,0.01)\n",
    "         \n",
    "    \n",
    "    def gradient_descent(self, num_epochs,lr, weight_decay):\n",
    "        self.num_epochs,self.lr,self.weight_decay=num_epochs,lr,weight_decay\n",
    "        #self.optimizer=torch.optim.Adam(self.parameters(),lr=self.lr,betas=(0.9,0.999),eps=1e-8,weight_decay=weight_decay)\n",
    "        self.optimizer=torch.optim.SGD(self.parameters(),momentum=0.9,lr=self.lr,weight_decay=self.weight_decay)\n",
    "        \n",
    "        for epoch in range(self.num_epochs):\n",
    "            \n",
    "            losses=[]\n",
    "            for X_batch,Y_batch in self.dltrain:\n",
    "                \n",
    "                   # Zero Gradients for the tensors that it will update\n",
    "                self.optimizer.zero_grad()   \n",
    "                # Forward Step\n",
    "                result=self.forward(X_batch)#(X_batch.cuda())\n",
    "\n",
    "                # Calculate Loss\n",
    "                loss=self.calculate_loss(Y_batch,result)\n",
    "                # loss=self.calculate_loss(Y_batch.cuda(),result)\n",
    "                \n",
    "               \n",
    "                # Backward Pass\n",
    "                loss.backward()\n",
    "\n",
    "                # Update parameters\n",
    "                self.optimizer.step()\n",
    "                \n",
    "               \n",
    "\n",
    "                                \n",
    "                losses.append(loss.item())\n",
    "                \n",
    "                \n",
    "            # Early Stopping?\n",
    "            with torch.set_grad_enabled(False):   \n",
    "                for X_valid,Y_valid in self.dlvalid:\n",
    "                    #validloss=self.calculate_loss(self.forward(X_valid.cuda()),Y_valid.cuda())\n",
    "                    validloss=self.calculate_loss(self.forward(X_valid),Y_valid)\n",
    "                    print (f'Epoch:{epoch}  Training Loss: {np.mean(losses)} Validation Loss:{validloss.item()}')\n",
    "                \n",
    "  \n",
    "    def forward (self,X_batch):\n",
    "        batch_users,batch_movies=X_batch[:,0],X_batch[:,1]\n",
    "        predictions=(self.u(batch_users) * self.i(batch_movies)).sum(1)+\\\n",
    "            self.ub(batch_users).squeeze()+self.ib(batch_movies).squeeze()\n",
    "        result=torch.sigmoid(predictions)*(self.max_rating-self.min_rating)+self.min_rating\n",
    "        return result.view(-1,1)\n",
    "        \n",
    "    \n",
    "    def calculate_loss (self,actual,prediction):\n",
    "        loss=torch.sqrt(torch.nn.functional.mse_loss(prediction,actual))\n",
    "        return loss\n",
    "    \n",
    "    "
   ]
  },
  {
   "cell_type": "code",
   "execution_count": 98,
   "metadata": {},
   "outputs": [],
   "source": [
    "min_rating,max_rating=dftrain['rating'].min(),dftrain['rating'].max()"
   ]
  },
  {
   "cell_type": "code",
   "execution_count": 99,
   "metadata": {},
   "outputs": [],
   "source": [
    "# results without decaying learning rate\n",
    "kl=cf(dltrain,dlvalid,num_users,num_movies,min_rating,max_rating,num_factors=10)#.cuda()\n"
   ]
  },
  {
   "cell_type": "code",
   "execution_count": 100,
   "metadata": {},
   "outputs": [
    {
     "name": "stdout",
     "output_type": "stream",
     "text": [
      "Epoch:0  Training Loss: 1.1617034723541952 Validation Loss:1.08507239818573\n",
      "Epoch:1  Training Loss: 1.024897913716056 Validation Loss:1.020538568496704\n",
      "Epoch:2  Training Loss: 0.9688984912092036 Validation Loss:0.9886392951011658\n",
      "Epoch:3  Training Loss: 0.939165398424322 Validation Loss:0.9707860350608826\n",
      "Epoch:4  Training Loss: 0.920699589469216 Validation Loss:0.9579100608825684\n",
      "Epoch:5  Training Loss: 0.9076999746669423 Validation Loss:0.9491401314735413\n",
      "Epoch:6  Training Loss: 0.8980429632013495 Validation Loss:0.9426755309104919\n",
      "Epoch:7  Training Loss: 0.8905416417121887 Validation Loss:0.9370364546775818\n",
      "Epoch:8  Training Loss: 0.8844227940385991 Validation Loss:0.9325957894325256\n",
      "Epoch:9  Training Loss: 0.8790056835521352 Validation Loss:0.9291061162948608\n",
      "Epoch:10  Training Loss: 0.8743828415870667 Validation Loss:0.9264740943908691\n",
      "Epoch:11  Training Loss: 0.8706097960472107 Validation Loss:0.9229230880737305\n",
      "Epoch:12  Training Loss: 0.8672644151340831 Validation Loss:0.9217823147773743\n",
      "Epoch:13  Training Loss: 0.8640369920297103 Validation Loss:0.9194451570510864\n",
      "Epoch:14  Training Loss: 0.8612294849482449 Validation Loss:0.9180662035942078\n",
      "Epoch:15  Training Loss: 0.8586450416391546 Validation Loss:0.9158282279968262\n"
     ]
    },
    {
     "ename": "KeyboardInterrupt",
     "evalue": "",
     "output_type": "error",
     "traceback": [
      "\u001b[0;31m---------------------------------------------------------------------------\u001b[0m",
      "\u001b[0;31mKeyboardInterrupt\u001b[0m                         Traceback (most recent call last)",
      "\u001b[0;32m<ipython-input-100-4f976ad74b37>\u001b[0m in \u001b[0;36m<module>\u001b[0;34m\u001b[0m\n\u001b[0;32m----> 1\u001b[0;31m \u001b[0mkl\u001b[0m\u001b[0;34m.\u001b[0m\u001b[0mgradient_descent\u001b[0m\u001b[0;34m(\u001b[0m\u001b[0mnum_epochs\u001b[0m\u001b[0;34m=\u001b[0m\u001b[0;36m25\u001b[0m\u001b[0;34m,\u001b[0m\u001b[0mlr\u001b[0m\u001b[0;34m=\u001b[0m\u001b[0;36m5e-2\u001b[0m\u001b[0;34m,\u001b[0m\u001b[0mweight_decay\u001b[0m\u001b[0;34m=\u001b[0m\u001b[0;36m2e-5\u001b[0m\u001b[0;34m)\u001b[0m\u001b[0;34m\u001b[0m\u001b[0;34m\u001b[0m\u001b[0m\n\u001b[0m",
      "\u001b[0;32m<ipython-input-97-d30111287469>\u001b[0m in \u001b[0;36mgradient_descent\u001b[0;34m(self, num_epochs, lr, weight_decay)\u001b[0m\n\u001b[1;32m     22\u001b[0m \u001b[0;34m\u001b[0m\u001b[0m\n\u001b[1;32m     23\u001b[0m             \u001b[0mlosses\u001b[0m\u001b[0;34m=\u001b[0m\u001b[0;34m[\u001b[0m\u001b[0;34m]\u001b[0m\u001b[0;34m\u001b[0m\u001b[0;34m\u001b[0m\u001b[0m\n\u001b[0;32m---> 24\u001b[0;31m             \u001b[0;32mfor\u001b[0m \u001b[0mX_batch\u001b[0m\u001b[0;34m,\u001b[0m\u001b[0mY_batch\u001b[0m \u001b[0;32min\u001b[0m \u001b[0mself\u001b[0m\u001b[0;34m.\u001b[0m\u001b[0mdltrain\u001b[0m\u001b[0;34m:\u001b[0m\u001b[0;34m\u001b[0m\u001b[0;34m\u001b[0m\u001b[0m\n\u001b[0m\u001b[1;32m     25\u001b[0m \u001b[0;34m\u001b[0m\u001b[0m\n\u001b[1;32m     26\u001b[0m                    \u001b[0;31m# Zero Gradients for the tensors that it will update\u001b[0m\u001b[0;34m\u001b[0m\u001b[0;34m\u001b[0m\u001b[0;34m\u001b[0m\u001b[0m\n",
      "\u001b[0;32m~/opt/anaconda3/lib/python3.7/site-packages/torch/utils/data/dataloader.py\u001b[0m in \u001b[0;36m__next__\u001b[0;34m(self)\u001b[0m\n\u001b[1;32m    344\u001b[0m     \u001b[0;32mdef\u001b[0m \u001b[0m__next__\u001b[0m\u001b[0;34m(\u001b[0m\u001b[0mself\u001b[0m\u001b[0;34m)\u001b[0m\u001b[0;34m:\u001b[0m\u001b[0;34m\u001b[0m\u001b[0;34m\u001b[0m\u001b[0m\n\u001b[1;32m    345\u001b[0m         \u001b[0mindex\u001b[0m \u001b[0;34m=\u001b[0m \u001b[0mself\u001b[0m\u001b[0;34m.\u001b[0m\u001b[0m_next_index\u001b[0m\u001b[0;34m(\u001b[0m\u001b[0;34m)\u001b[0m  \u001b[0;31m# may raise StopIteration\u001b[0m\u001b[0;34m\u001b[0m\u001b[0;34m\u001b[0m\u001b[0m\n\u001b[0;32m--> 346\u001b[0;31m         \u001b[0mdata\u001b[0m \u001b[0;34m=\u001b[0m \u001b[0mself\u001b[0m\u001b[0;34m.\u001b[0m\u001b[0m_dataset_fetcher\u001b[0m\u001b[0;34m.\u001b[0m\u001b[0mfetch\u001b[0m\u001b[0;34m(\u001b[0m\u001b[0mindex\u001b[0m\u001b[0;34m)\u001b[0m  \u001b[0;31m# may raise StopIteration\u001b[0m\u001b[0;34m\u001b[0m\u001b[0;34m\u001b[0m\u001b[0m\n\u001b[0m\u001b[1;32m    347\u001b[0m         \u001b[0;32mif\u001b[0m \u001b[0mself\u001b[0m\u001b[0;34m.\u001b[0m\u001b[0m_pin_memory\u001b[0m\u001b[0;34m:\u001b[0m\u001b[0;34m\u001b[0m\u001b[0;34m\u001b[0m\u001b[0m\n\u001b[1;32m    348\u001b[0m             \u001b[0mdata\u001b[0m \u001b[0;34m=\u001b[0m \u001b[0m_utils\u001b[0m\u001b[0;34m.\u001b[0m\u001b[0mpin_memory\u001b[0m\u001b[0;34m.\u001b[0m\u001b[0mpin_memory\u001b[0m\u001b[0;34m(\u001b[0m\u001b[0mdata\u001b[0m\u001b[0;34m)\u001b[0m\u001b[0;34m\u001b[0m\u001b[0;34m\u001b[0m\u001b[0m\n",
      "\u001b[0;32m~/opt/anaconda3/lib/python3.7/site-packages/torch/utils/data/_utils/fetch.py\u001b[0m in \u001b[0;36mfetch\u001b[0;34m(self, possibly_batched_index)\u001b[0m\n\u001b[1;32m     42\u001b[0m     \u001b[0;32mdef\u001b[0m \u001b[0mfetch\u001b[0m\u001b[0;34m(\u001b[0m\u001b[0mself\u001b[0m\u001b[0;34m,\u001b[0m \u001b[0mpossibly_batched_index\u001b[0m\u001b[0;34m)\u001b[0m\u001b[0;34m:\u001b[0m\u001b[0;34m\u001b[0m\u001b[0;34m\u001b[0m\u001b[0m\n\u001b[1;32m     43\u001b[0m         \u001b[0;32mif\u001b[0m \u001b[0mself\u001b[0m\u001b[0;34m.\u001b[0m\u001b[0mauto_collation\u001b[0m\u001b[0;34m:\u001b[0m\u001b[0;34m\u001b[0m\u001b[0;34m\u001b[0m\u001b[0m\n\u001b[0;32m---> 44\u001b[0;31m             \u001b[0mdata\u001b[0m \u001b[0;34m=\u001b[0m \u001b[0;34m[\u001b[0m\u001b[0mself\u001b[0m\u001b[0;34m.\u001b[0m\u001b[0mdataset\u001b[0m\u001b[0;34m[\u001b[0m\u001b[0midx\u001b[0m\u001b[0;34m]\u001b[0m \u001b[0;32mfor\u001b[0m \u001b[0midx\u001b[0m \u001b[0;32min\u001b[0m \u001b[0mpossibly_batched_index\u001b[0m\u001b[0;34m]\u001b[0m\u001b[0;34m\u001b[0m\u001b[0;34m\u001b[0m\u001b[0m\n\u001b[0m\u001b[1;32m     45\u001b[0m         \u001b[0;32melse\u001b[0m\u001b[0;34m:\u001b[0m\u001b[0;34m\u001b[0m\u001b[0;34m\u001b[0m\u001b[0m\n\u001b[1;32m     46\u001b[0m             \u001b[0mdata\u001b[0m \u001b[0;34m=\u001b[0m \u001b[0mself\u001b[0m\u001b[0;34m.\u001b[0m\u001b[0mdataset\u001b[0m\u001b[0;34m[\u001b[0m\u001b[0mpossibly_batched_index\u001b[0m\u001b[0;34m]\u001b[0m\u001b[0;34m\u001b[0m\u001b[0;34m\u001b[0m\u001b[0m\n",
      "\u001b[0;32m~/opt/anaconda3/lib/python3.7/site-packages/torch/utils/data/_utils/fetch.py\u001b[0m in \u001b[0;36m<listcomp>\u001b[0;34m(.0)\u001b[0m\n\u001b[1;32m     42\u001b[0m     \u001b[0;32mdef\u001b[0m \u001b[0mfetch\u001b[0m\u001b[0;34m(\u001b[0m\u001b[0mself\u001b[0m\u001b[0;34m,\u001b[0m \u001b[0mpossibly_batched_index\u001b[0m\u001b[0;34m)\u001b[0m\u001b[0;34m:\u001b[0m\u001b[0;34m\u001b[0m\u001b[0;34m\u001b[0m\u001b[0m\n\u001b[1;32m     43\u001b[0m         \u001b[0;32mif\u001b[0m \u001b[0mself\u001b[0m\u001b[0;34m.\u001b[0m\u001b[0mauto_collation\u001b[0m\u001b[0;34m:\u001b[0m\u001b[0;34m\u001b[0m\u001b[0;34m\u001b[0m\u001b[0m\n\u001b[0;32m---> 44\u001b[0;31m             \u001b[0mdata\u001b[0m \u001b[0;34m=\u001b[0m \u001b[0;34m[\u001b[0m\u001b[0mself\u001b[0m\u001b[0;34m.\u001b[0m\u001b[0mdataset\u001b[0m\u001b[0;34m[\u001b[0m\u001b[0midx\u001b[0m\u001b[0;34m]\u001b[0m \u001b[0;32mfor\u001b[0m \u001b[0midx\u001b[0m \u001b[0;32min\u001b[0m \u001b[0mpossibly_batched_index\u001b[0m\u001b[0;34m]\u001b[0m\u001b[0;34m\u001b[0m\u001b[0;34m\u001b[0m\u001b[0m\n\u001b[0m\u001b[1;32m     45\u001b[0m         \u001b[0;32melse\u001b[0m\u001b[0;34m:\u001b[0m\u001b[0;34m\u001b[0m\u001b[0;34m\u001b[0m\u001b[0m\n\u001b[1;32m     46\u001b[0m             \u001b[0mdata\u001b[0m \u001b[0;34m=\u001b[0m \u001b[0mself\u001b[0m\u001b[0;34m.\u001b[0m\u001b[0mdataset\u001b[0m\u001b[0;34m[\u001b[0m\u001b[0mpossibly_batched_index\u001b[0m\u001b[0;34m]\u001b[0m\u001b[0;34m\u001b[0m\u001b[0;34m\u001b[0m\u001b[0m\n",
      "\u001b[0;32m<ipython-input-84-8223d27cd3d5>\u001b[0m in \u001b[0;36m__getitem__\u001b[0;34m(self, idx)\u001b[0m\n\u001b[1;32m      8\u001b[0m \u001b[0;34m\u001b[0m\u001b[0m\n\u001b[1;32m      9\u001b[0m     \u001b[0;32mdef\u001b[0m \u001b[0m__getitem__\u001b[0m \u001b[0;34m(\u001b[0m\u001b[0mself\u001b[0m\u001b[0;34m,\u001b[0m \u001b[0midx\u001b[0m\u001b[0;34m)\u001b[0m\u001b[0;34m:\u001b[0m\u001b[0;34m\u001b[0m\u001b[0;34m\u001b[0m\u001b[0m\n\u001b[0;32m---> 10\u001b[0;31m         \u001b[0;32mreturn\u001b[0m \u001b[0mtorch\u001b[0m\u001b[0;34m.\u001b[0m\u001b[0mLongTensor\u001b[0m\u001b[0;34m(\u001b[0m\u001b[0mself\u001b[0m\u001b[0;34m.\u001b[0m\u001b[0mdfX\u001b[0m\u001b[0;34m.\u001b[0m\u001b[0miloc\u001b[0m\u001b[0;34m[\u001b[0m\u001b[0midx\u001b[0m\u001b[0;34m]\u001b[0m\u001b[0;34m.\u001b[0m\u001b[0mvalues\u001b[0m\u001b[0;34m)\u001b[0m\u001b[0;34m,\u001b[0m\u001b[0mtorch\u001b[0m\u001b[0;34m.\u001b[0m\u001b[0mFloatTensor\u001b[0m\u001b[0;34m(\u001b[0m\u001b[0;34m[\u001b[0m\u001b[0mself\u001b[0m\u001b[0;34m.\u001b[0m\u001b[0mdfY\u001b[0m\u001b[0;34m.\u001b[0m\u001b[0mvalues\u001b[0m\u001b[0;34m[\u001b[0m\u001b[0midx\u001b[0m\u001b[0;34m]\u001b[0m\u001b[0;34m]\u001b[0m\u001b[0;34m)\u001b[0m\u001b[0;34m\u001b[0m\u001b[0;34m\u001b[0m\u001b[0m\n\u001b[0m\u001b[1;32m     11\u001b[0m \u001b[0;34m\u001b[0m\u001b[0m\n",
      "\u001b[0;32m~/opt/anaconda3/lib/python3.7/site-packages/pandas/core/indexing.py\u001b[0m in \u001b[0;36m__getitem__\u001b[0;34m(self, key)\u001b[0m\n\u001b[1;32m   1422\u001b[0m \u001b[0;34m\u001b[0m\u001b[0m\n\u001b[1;32m   1423\u001b[0m             \u001b[0mmaybe_callable\u001b[0m \u001b[0;34m=\u001b[0m \u001b[0mcom\u001b[0m\u001b[0;34m.\u001b[0m\u001b[0mapply_if_callable\u001b[0m\u001b[0;34m(\u001b[0m\u001b[0mkey\u001b[0m\u001b[0;34m,\u001b[0m \u001b[0mself\u001b[0m\u001b[0;34m.\u001b[0m\u001b[0mobj\u001b[0m\u001b[0;34m)\u001b[0m\u001b[0;34m\u001b[0m\u001b[0;34m\u001b[0m\u001b[0m\n\u001b[0;32m-> 1424\u001b[0;31m             \u001b[0;32mreturn\u001b[0m \u001b[0mself\u001b[0m\u001b[0;34m.\u001b[0m\u001b[0m_getitem_axis\u001b[0m\u001b[0;34m(\u001b[0m\u001b[0mmaybe_callable\u001b[0m\u001b[0;34m,\u001b[0m \u001b[0maxis\u001b[0m\u001b[0;34m=\u001b[0m\u001b[0maxis\u001b[0m\u001b[0;34m)\u001b[0m\u001b[0;34m\u001b[0m\u001b[0;34m\u001b[0m\u001b[0m\n\u001b[0m\u001b[1;32m   1425\u001b[0m \u001b[0;34m\u001b[0m\u001b[0m\n\u001b[1;32m   1426\u001b[0m     \u001b[0;32mdef\u001b[0m \u001b[0m_is_scalar_access\u001b[0m\u001b[0;34m(\u001b[0m\u001b[0mself\u001b[0m\u001b[0;34m,\u001b[0m \u001b[0mkey\u001b[0m\u001b[0;34m:\u001b[0m \u001b[0mTuple\u001b[0m\u001b[0;34m)\u001b[0m\u001b[0;34m:\u001b[0m\u001b[0;34m\u001b[0m\u001b[0;34m\u001b[0m\u001b[0m\n",
      "\u001b[0;32m~/opt/anaconda3/lib/python3.7/site-packages/pandas/core/indexing.py\u001b[0m in \u001b[0;36m_getitem_axis\u001b[0;34m(self, key, axis)\u001b[0m\n\u001b[1;32m   2157\u001b[0m             \u001b[0mself\u001b[0m\u001b[0;34m.\u001b[0m\u001b[0m_validate_integer\u001b[0m\u001b[0;34m(\u001b[0m\u001b[0mkey\u001b[0m\u001b[0;34m,\u001b[0m \u001b[0maxis\u001b[0m\u001b[0;34m)\u001b[0m\u001b[0;34m\u001b[0m\u001b[0;34m\u001b[0m\u001b[0m\n\u001b[1;32m   2158\u001b[0m \u001b[0;34m\u001b[0m\u001b[0m\n\u001b[0;32m-> 2159\u001b[0;31m             \u001b[0;32mreturn\u001b[0m \u001b[0mself\u001b[0m\u001b[0;34m.\u001b[0m\u001b[0m_get_loc\u001b[0m\u001b[0;34m(\u001b[0m\u001b[0mkey\u001b[0m\u001b[0;34m,\u001b[0m \u001b[0maxis\u001b[0m\u001b[0;34m=\u001b[0m\u001b[0maxis\u001b[0m\u001b[0;34m)\u001b[0m\u001b[0;34m\u001b[0m\u001b[0;34m\u001b[0m\u001b[0m\n\u001b[0m\u001b[1;32m   2160\u001b[0m \u001b[0;34m\u001b[0m\u001b[0m\n\u001b[1;32m   2161\u001b[0m     \u001b[0;31m# raise_missing is included for compat with the parent class signature\u001b[0m\u001b[0;34m\u001b[0m\u001b[0;34m\u001b[0m\u001b[0;34m\u001b[0m\u001b[0m\n",
      "\u001b[0;32m~/opt/anaconda3/lib/python3.7/site-packages/pandas/core/indexing.py\u001b[0m in \u001b[0;36m_get_loc\u001b[0;34m(self, key, axis)\u001b[0m\n\u001b[1;32m    161\u001b[0m \u001b[0;34m\u001b[0m\u001b[0m\n\u001b[1;32m    162\u001b[0m     \u001b[0;32mdef\u001b[0m \u001b[0m_get_loc\u001b[0m\u001b[0;34m(\u001b[0m\u001b[0mself\u001b[0m\u001b[0;34m,\u001b[0m \u001b[0mkey\u001b[0m\u001b[0;34m:\u001b[0m \u001b[0mint\u001b[0m\u001b[0;34m,\u001b[0m \u001b[0maxis\u001b[0m\u001b[0;34m:\u001b[0m \u001b[0mint\u001b[0m\u001b[0;34m)\u001b[0m\u001b[0;34m:\u001b[0m\u001b[0;34m\u001b[0m\u001b[0;34m\u001b[0m\u001b[0m\n\u001b[0;32m--> 163\u001b[0;31m         \u001b[0;32mreturn\u001b[0m \u001b[0mself\u001b[0m\u001b[0;34m.\u001b[0m\u001b[0mobj\u001b[0m\u001b[0;34m.\u001b[0m\u001b[0m_ixs\u001b[0m\u001b[0;34m(\u001b[0m\u001b[0mkey\u001b[0m\u001b[0;34m,\u001b[0m \u001b[0maxis\u001b[0m\u001b[0;34m=\u001b[0m\u001b[0maxis\u001b[0m\u001b[0;34m)\u001b[0m\u001b[0;34m\u001b[0m\u001b[0;34m\u001b[0m\u001b[0m\n\u001b[0m\u001b[1;32m    164\u001b[0m \u001b[0;34m\u001b[0m\u001b[0m\n\u001b[1;32m    165\u001b[0m     \u001b[0;32mdef\u001b[0m \u001b[0m_slice\u001b[0m\u001b[0;34m(\u001b[0m\u001b[0mself\u001b[0m\u001b[0;34m,\u001b[0m \u001b[0mobj\u001b[0m\u001b[0;34m,\u001b[0m \u001b[0maxis\u001b[0m\u001b[0;34m:\u001b[0m \u001b[0mint\u001b[0m\u001b[0;34m,\u001b[0m \u001b[0mkind\u001b[0m\u001b[0;34m=\u001b[0m\u001b[0;32mNone\u001b[0m\u001b[0;34m)\u001b[0m\u001b[0;34m:\u001b[0m\u001b[0;34m\u001b[0m\u001b[0;34m\u001b[0m\u001b[0m\n",
      "\u001b[0;32m~/opt/anaconda3/lib/python3.7/site-packages/pandas/core/frame.py\u001b[0m in \u001b[0;36m_ixs\u001b[0;34m(self, i, axis)\u001b[0m\n\u001b[1;32m   2923\u001b[0m                 \u001b[0mindex\u001b[0m\u001b[0;34m=\u001b[0m\u001b[0mself\u001b[0m\u001b[0;34m.\u001b[0m\u001b[0mcolumns\u001b[0m\u001b[0;34m,\u001b[0m\u001b[0;34m\u001b[0m\u001b[0;34m\u001b[0m\u001b[0m\n\u001b[1;32m   2924\u001b[0m                 \u001b[0mname\u001b[0m\u001b[0;34m=\u001b[0m\u001b[0mself\u001b[0m\u001b[0;34m.\u001b[0m\u001b[0mindex\u001b[0m\u001b[0;34m[\u001b[0m\u001b[0mi\u001b[0m\u001b[0;34m]\u001b[0m\u001b[0;34m,\u001b[0m\u001b[0;34m\u001b[0m\u001b[0;34m\u001b[0m\u001b[0m\n\u001b[0;32m-> 2925\u001b[0;31m                 \u001b[0mdtype\u001b[0m\u001b[0;34m=\u001b[0m\u001b[0mnew_values\u001b[0m\u001b[0;34m.\u001b[0m\u001b[0mdtype\u001b[0m\u001b[0;34m,\u001b[0m\u001b[0;34m\u001b[0m\u001b[0;34m\u001b[0m\u001b[0m\n\u001b[0m\u001b[1;32m   2926\u001b[0m             )\n\u001b[1;32m   2927\u001b[0m             \u001b[0mresult\u001b[0m\u001b[0;34m.\u001b[0m\u001b[0m_set_is_copy\u001b[0m\u001b[0;34m(\u001b[0m\u001b[0mself\u001b[0m\u001b[0;34m,\u001b[0m \u001b[0mcopy\u001b[0m\u001b[0;34m=\u001b[0m\u001b[0mcopy\u001b[0m\u001b[0;34m)\u001b[0m\u001b[0;34m\u001b[0m\u001b[0;34m\u001b[0m\u001b[0m\n",
      "\u001b[0;32m~/opt/anaconda3/lib/python3.7/site-packages/pandas/core/series.py\u001b[0m in \u001b[0;36m__init__\u001b[0;34m(self, data, index, dtype, name, copy, fastpath)\u001b[0m\n\u001b[1;32m    311\u001b[0m                 \u001b[0mdata\u001b[0m \u001b[0;34m=\u001b[0m \u001b[0msanitize_array\u001b[0m\u001b[0;34m(\u001b[0m\u001b[0mdata\u001b[0m\u001b[0;34m,\u001b[0m \u001b[0mindex\u001b[0m\u001b[0;34m,\u001b[0m \u001b[0mdtype\u001b[0m\u001b[0;34m,\u001b[0m \u001b[0mcopy\u001b[0m\u001b[0;34m,\u001b[0m \u001b[0mraise_cast_failure\u001b[0m\u001b[0;34m=\u001b[0m\u001b[0;32mTrue\u001b[0m\u001b[0;34m)\u001b[0m\u001b[0;34m\u001b[0m\u001b[0;34m\u001b[0m\u001b[0m\n\u001b[1;32m    312\u001b[0m \u001b[0;34m\u001b[0m\u001b[0m\n\u001b[0;32m--> 313\u001b[0;31m                 \u001b[0mdata\u001b[0m \u001b[0;34m=\u001b[0m \u001b[0mSingleBlockManager\u001b[0m\u001b[0;34m(\u001b[0m\u001b[0mdata\u001b[0m\u001b[0;34m,\u001b[0m \u001b[0mindex\u001b[0m\u001b[0;34m,\u001b[0m \u001b[0mfastpath\u001b[0m\u001b[0;34m=\u001b[0m\u001b[0;32mTrue\u001b[0m\u001b[0;34m)\u001b[0m\u001b[0;34m\u001b[0m\u001b[0;34m\u001b[0m\u001b[0m\n\u001b[0m\u001b[1;32m    314\u001b[0m \u001b[0;34m\u001b[0m\u001b[0m\n\u001b[1;32m    315\u001b[0m         \u001b[0mgeneric\u001b[0m\u001b[0;34m.\u001b[0m\u001b[0mNDFrame\u001b[0m\u001b[0;34m.\u001b[0m\u001b[0m__init__\u001b[0m\u001b[0;34m(\u001b[0m\u001b[0mself\u001b[0m\u001b[0;34m,\u001b[0m \u001b[0mdata\u001b[0m\u001b[0;34m,\u001b[0m \u001b[0mfastpath\u001b[0m\u001b[0;34m=\u001b[0m\u001b[0;32mTrue\u001b[0m\u001b[0;34m)\u001b[0m\u001b[0;34m\u001b[0m\u001b[0;34m\u001b[0m\u001b[0m\n",
      "\u001b[0;32m~/opt/anaconda3/lib/python3.7/site-packages/pandas/core/internals/managers.py\u001b[0m in \u001b[0;36m__init__\u001b[0;34m(self, block, axis, do_integrity_check, fastpath)\u001b[0m\n\u001b[1;32m   1514\u001b[0m \u001b[0;34m\u001b[0m\u001b[0m\n\u001b[1;32m   1515\u001b[0m         \u001b[0;32mif\u001b[0m \u001b[0;32mnot\u001b[0m \u001b[0misinstance\u001b[0m\u001b[0;34m(\u001b[0m\u001b[0mblock\u001b[0m\u001b[0;34m,\u001b[0m \u001b[0mBlock\u001b[0m\u001b[0;34m)\u001b[0m\u001b[0;34m:\u001b[0m\u001b[0;34m\u001b[0m\u001b[0;34m\u001b[0m\u001b[0m\n\u001b[0;32m-> 1516\u001b[0;31m             \u001b[0mblock\u001b[0m \u001b[0;34m=\u001b[0m \u001b[0mmake_block\u001b[0m\u001b[0;34m(\u001b[0m\u001b[0mblock\u001b[0m\u001b[0;34m,\u001b[0m \u001b[0mplacement\u001b[0m\u001b[0;34m=\u001b[0m\u001b[0mslice\u001b[0m\u001b[0;34m(\u001b[0m\u001b[0;36m0\u001b[0m\u001b[0;34m,\u001b[0m \u001b[0mlen\u001b[0m\u001b[0;34m(\u001b[0m\u001b[0maxis\u001b[0m\u001b[0;34m)\u001b[0m\u001b[0;34m)\u001b[0m\u001b[0;34m,\u001b[0m \u001b[0mndim\u001b[0m\u001b[0;34m=\u001b[0m\u001b[0;36m1\u001b[0m\u001b[0;34m)\u001b[0m\u001b[0;34m\u001b[0m\u001b[0;34m\u001b[0m\u001b[0m\n\u001b[0m\u001b[1;32m   1517\u001b[0m \u001b[0;34m\u001b[0m\u001b[0m\n\u001b[1;32m   1518\u001b[0m         \u001b[0mself\u001b[0m\u001b[0;34m.\u001b[0m\u001b[0mblocks\u001b[0m \u001b[0;34m=\u001b[0m \u001b[0mtuple\u001b[0m\u001b[0;34m(\u001b[0m\u001b[0;34m[\u001b[0m\u001b[0mblock\u001b[0m\u001b[0;34m]\u001b[0m\u001b[0;34m)\u001b[0m\u001b[0;34m\u001b[0m\u001b[0;34m\u001b[0m\u001b[0m\n",
      "\u001b[0;32m~/opt/anaconda3/lib/python3.7/site-packages/pandas/core/internals/blocks.py\u001b[0m in \u001b[0;36mmake_block\u001b[0;34m(values, placement, klass, ndim, dtype, fastpath)\u001b[0m\n\u001b[1;32m   3258\u001b[0m     \u001b[0;32mif\u001b[0m \u001b[0mklass\u001b[0m \u001b[0;32mis\u001b[0m \u001b[0;32mNone\u001b[0m\u001b[0;34m:\u001b[0m\u001b[0;34m\u001b[0m\u001b[0;34m\u001b[0m\u001b[0m\n\u001b[1;32m   3259\u001b[0m         \u001b[0mdtype\u001b[0m \u001b[0;34m=\u001b[0m \u001b[0mdtype\u001b[0m \u001b[0;32mor\u001b[0m \u001b[0mvalues\u001b[0m\u001b[0;34m.\u001b[0m\u001b[0mdtype\u001b[0m\u001b[0;34m\u001b[0m\u001b[0;34m\u001b[0m\u001b[0m\n\u001b[0;32m-> 3260\u001b[0;31m         \u001b[0mklass\u001b[0m \u001b[0;34m=\u001b[0m \u001b[0mget_block_type\u001b[0m\u001b[0;34m(\u001b[0m\u001b[0mvalues\u001b[0m\u001b[0;34m,\u001b[0m \u001b[0mdtype\u001b[0m\u001b[0;34m)\u001b[0m\u001b[0;34m\u001b[0m\u001b[0;34m\u001b[0m\u001b[0m\n\u001b[0m\u001b[1;32m   3261\u001b[0m \u001b[0;34m\u001b[0m\u001b[0m\n\u001b[1;32m   3262\u001b[0m     \u001b[0;32melif\u001b[0m \u001b[0mklass\u001b[0m \u001b[0;32mis\u001b[0m \u001b[0mDatetimeTZBlock\u001b[0m \u001b[0;32mand\u001b[0m \u001b[0;32mnot\u001b[0m \u001b[0mis_datetime64tz_dtype\u001b[0m\u001b[0;34m(\u001b[0m\u001b[0mvalues\u001b[0m\u001b[0;34m)\u001b[0m\u001b[0;34m:\u001b[0m\u001b[0;34m\u001b[0m\u001b[0;34m\u001b[0m\u001b[0m\n",
      "\u001b[0;32m~/opt/anaconda3/lib/python3.7/site-packages/pandas/core/internals/blocks.py\u001b[0m in \u001b[0;36mget_block_type\u001b[0;34m(values, dtype)\u001b[0m\n\u001b[1;32m   3217\u001b[0m         \u001b[0;32massert\u001b[0m \u001b[0;32mnot\u001b[0m \u001b[0mis_datetime64tz_dtype\u001b[0m\u001b[0;34m(\u001b[0m\u001b[0mvalues\u001b[0m\u001b[0;34m)\u001b[0m\u001b[0;34m\u001b[0m\u001b[0;34m\u001b[0m\u001b[0m\n\u001b[1;32m   3218\u001b[0m         \u001b[0mcls\u001b[0m \u001b[0;34m=\u001b[0m \u001b[0mDatetimeBlock\u001b[0m\u001b[0;34m\u001b[0m\u001b[0;34m\u001b[0m\u001b[0m\n\u001b[0;32m-> 3219\u001b[0;31m     \u001b[0;32melif\u001b[0m \u001b[0mis_datetime64tz_dtype\u001b[0m\u001b[0;34m(\u001b[0m\u001b[0mvalues\u001b[0m\u001b[0;34m)\u001b[0m\u001b[0;34m:\u001b[0m\u001b[0;34m\u001b[0m\u001b[0;34m\u001b[0m\u001b[0m\n\u001b[0m\u001b[1;32m   3220\u001b[0m         \u001b[0mcls\u001b[0m \u001b[0;34m=\u001b[0m \u001b[0mDatetimeTZBlock\u001b[0m\u001b[0;34m\u001b[0m\u001b[0;34m\u001b[0m\u001b[0m\n\u001b[1;32m   3221\u001b[0m     \u001b[0;32melif\u001b[0m \u001b[0mis_interval_dtype\u001b[0m\u001b[0;34m(\u001b[0m\u001b[0mdtype\u001b[0m\u001b[0;34m)\u001b[0m \u001b[0;32mor\u001b[0m \u001b[0mis_period_dtype\u001b[0m\u001b[0;34m(\u001b[0m\u001b[0mdtype\u001b[0m\u001b[0;34m)\u001b[0m\u001b[0;34m:\u001b[0m\u001b[0;34m\u001b[0m\u001b[0;34m\u001b[0m\u001b[0m\n",
      "\u001b[0;32m~/opt/anaconda3/lib/python3.7/site-packages/pandas/core/dtypes/common.py\u001b[0m in \u001b[0;36mis_datetime64tz_dtype\u001b[0;34m(arr_or_dtype)\u001b[0m\n\u001b[1;32m    572\u001b[0m     \u001b[0;32mif\u001b[0m \u001b[0marr_or_dtype\u001b[0m \u001b[0;32mis\u001b[0m \u001b[0;32mNone\u001b[0m\u001b[0;34m:\u001b[0m\u001b[0;34m\u001b[0m\u001b[0;34m\u001b[0m\u001b[0m\n\u001b[1;32m    573\u001b[0m         \u001b[0;32mreturn\u001b[0m \u001b[0;32mFalse\u001b[0m\u001b[0;34m\u001b[0m\u001b[0;34m\u001b[0m\u001b[0m\n\u001b[0;32m--> 574\u001b[0;31m     \u001b[0;32mreturn\u001b[0m \u001b[0mDatetimeTZDtype\u001b[0m\u001b[0;34m.\u001b[0m\u001b[0mis_dtype\u001b[0m\u001b[0;34m(\u001b[0m\u001b[0marr_or_dtype\u001b[0m\u001b[0;34m)\u001b[0m\u001b[0;34m\u001b[0m\u001b[0;34m\u001b[0m\u001b[0m\n\u001b[0m\u001b[1;32m    575\u001b[0m \u001b[0;34m\u001b[0m\u001b[0m\n\u001b[1;32m    576\u001b[0m \u001b[0;34m\u001b[0m\u001b[0m\n",
      "\u001b[0;32m~/opt/anaconda3/lib/python3.7/site-packages/pandas/core/dtypes/base.py\u001b[0m in \u001b[0;36mis_dtype\u001b[0;34m(cls, dtype)\u001b[0m\n\u001b[1;32m    254\u001b[0m         \u001b[0mdtype\u001b[0m \u001b[0;34m=\u001b[0m \u001b[0mgetattr\u001b[0m\u001b[0;34m(\u001b[0m\u001b[0mdtype\u001b[0m\u001b[0;34m,\u001b[0m \u001b[0;34m\"dtype\"\u001b[0m\u001b[0;34m,\u001b[0m \u001b[0mdtype\u001b[0m\u001b[0;34m)\u001b[0m\u001b[0;34m\u001b[0m\u001b[0;34m\u001b[0m\u001b[0m\n\u001b[1;32m    255\u001b[0m \u001b[0;34m\u001b[0m\u001b[0m\n\u001b[0;32m--> 256\u001b[0;31m         \u001b[0;32mif\u001b[0m \u001b[0misinstance\u001b[0m\u001b[0;34m(\u001b[0m\u001b[0mdtype\u001b[0m\u001b[0;34m,\u001b[0m \u001b[0;34m(\u001b[0m\u001b[0mABCSeries\u001b[0m\u001b[0;34m,\u001b[0m \u001b[0mABCIndexClass\u001b[0m\u001b[0;34m,\u001b[0m \u001b[0mABCDataFrame\u001b[0m\u001b[0;34m,\u001b[0m \u001b[0mnp\u001b[0m\u001b[0;34m.\u001b[0m\u001b[0mdtype\u001b[0m\u001b[0;34m)\u001b[0m\u001b[0;34m)\u001b[0m\u001b[0;34m:\u001b[0m\u001b[0;34m\u001b[0m\u001b[0;34m\u001b[0m\u001b[0m\n\u001b[0m\u001b[1;32m    257\u001b[0m             \u001b[0;31m# https://github.com/pandas-dev/pandas/issues/22960\u001b[0m\u001b[0;34m\u001b[0m\u001b[0;34m\u001b[0m\u001b[0;34m\u001b[0m\u001b[0m\n\u001b[1;32m    258\u001b[0m             \u001b[0;31m# avoid passing data to `construct_from_string`. This could\u001b[0m\u001b[0;34m\u001b[0m\u001b[0;34m\u001b[0m\u001b[0;34m\u001b[0m\u001b[0m\n",
      "\u001b[0;32m~/opt/anaconda3/lib/python3.7/site-packages/pandas/core/dtypes/generic.py\u001b[0m in \u001b[0;36m_check\u001b[0;34m(cls, inst)\u001b[0m\n\u001b[1;32m      5\u001b[0m \u001b[0;31m# objects\u001b[0m\u001b[0;34m\u001b[0m\u001b[0;34m\u001b[0m\u001b[0;34m\u001b[0m\u001b[0m\n\u001b[1;32m      6\u001b[0m \u001b[0;32mdef\u001b[0m \u001b[0mcreate_pandas_abc_type\u001b[0m\u001b[0;34m(\u001b[0m\u001b[0mname\u001b[0m\u001b[0;34m,\u001b[0m \u001b[0mattr\u001b[0m\u001b[0;34m,\u001b[0m \u001b[0mcomp\u001b[0m\u001b[0;34m)\u001b[0m\u001b[0;34m:\u001b[0m\u001b[0;34m\u001b[0m\u001b[0;34m\u001b[0m\u001b[0m\n\u001b[0;32m----> 7\u001b[0;31m     \u001b[0;34m@\u001b[0m\u001b[0mclassmethod\u001b[0m\u001b[0;34m\u001b[0m\u001b[0;34m\u001b[0m\u001b[0m\n\u001b[0m\u001b[1;32m      8\u001b[0m     \u001b[0;32mdef\u001b[0m \u001b[0m_check\u001b[0m\u001b[0;34m(\u001b[0m\u001b[0mcls\u001b[0m\u001b[0;34m,\u001b[0m \u001b[0minst\u001b[0m\u001b[0;34m)\u001b[0m\u001b[0;34m:\u001b[0m\u001b[0;34m\u001b[0m\u001b[0;34m\u001b[0m\u001b[0m\n\u001b[1;32m      9\u001b[0m         \u001b[0;32mreturn\u001b[0m \u001b[0mgetattr\u001b[0m\u001b[0;34m(\u001b[0m\u001b[0minst\u001b[0m\u001b[0;34m,\u001b[0m \u001b[0mattr\u001b[0m\u001b[0;34m,\u001b[0m \u001b[0;34m\"_typ\"\u001b[0m\u001b[0;34m)\u001b[0m \u001b[0;32min\u001b[0m \u001b[0mcomp\u001b[0m\u001b[0;34m\u001b[0m\u001b[0;34m\u001b[0m\u001b[0m\n",
      "\u001b[0;31mKeyboardInterrupt\u001b[0m: "
     ]
    }
   ],
   "source": [
    "kl.gradient_descent(num_epochs=25,lr=5e-2,weight_decay=2e-5)"
   ]
  },
  {
   "cell_type": "code",
   "execution_count": 90,
   "metadata": {},
   "outputs": [
    {
     "name": "stdout",
     "output_type": "stream",
     "text": [
      "Epoch:0  Training Loss: 0.8409460217302496 Validation Loss:0.9061986804008484\n",
      "Epoch:1  Training Loss: 0.8395277554338628 Validation Loss:0.9056211709976196\n",
      "Epoch:2  Training Loss: 0.8384212901375511 Validation Loss:0.9050616025924683\n",
      "Epoch:3  Training Loss: 0.8372622828050094 Validation Loss:0.9037684202194214\n",
      "Epoch:4  Training Loss: 0.8361222509904341 Validation Loss:0.904682457447052\n"
     ]
    }
   ],
   "source": [
    "kl.gradient_descent(num_epochs=5,lr=5e-2,weight_decay=2e-5)"
   ]
  },
  {
   "cell_type": "markdown",
   "metadata": {},
   "source": [
    "##  Cutting Training Time through Intelligent Programming"
   ]
  },
  {
   "cell_type": "code",
   "execution_count": 91,
   "metadata": {},
   "outputs": [],
   "source": [
    "class cf (torch.nn.Module):\n",
    "    # Create network architecture\n",
    "    def __init__ (self,dltrain,dlvalid,num_users,num_movies,min_rating,max_rating,num_factors=8,num_epochs=1):\n",
    "        super(cf,self).__init__()\n",
    "        self.dltrain,self.dlvalid,self.num_users,self.num_movies,self.num_factors,self.min_rating,self.max_rating=\\\n",
    "            dltrain,dlvalid,num_factors,num_users,num_movies,min_rating,max_rating\n",
    "        self.u,self.i,self.ub,self.ib=torch.nn.Embedding(num_users+1,num_factors),\\\n",
    "            torch.nn.Embedding(num_movies+1,num_factors),torch.nn.Embedding(num_users+1,1),\\\n",
    "            torch.nn.Embedding(num_movies+1,1)\n",
    "        self.u.weight.data.uniform_(0,0.01)\n",
    "        self.i.weight.data.uniform_(0,0.01)\n",
    "        self.ub.weight.data.uniform_(0,0.01)\n",
    "        self.ib.weight.data.uniform_(0,0.01)\n",
    "    \n",
    "  \n",
    "        \n",
    "    \n",
    "    def gradient_descent(self, num_epochs,lr, weight_decay,lrs=None):\n",
    "        self.num_epochs,self.lr,self.weight_decay=num_epochs,lr,weight_decay\n",
    "        self.optimizer=torch.optim.Adam(self.parameters(),lr=self.lr,betas=(0.9,0.999),eps=1e-8,weight_decay=weight_decay)\n",
    "        #self.optimizer=torch.optim.SGD(self.parameters(),momentum=0.9,lr=self.lr,weight_decay=self.weight_decay)\n",
    "        \n",
    "        for epoch in range(self.num_epochs):\n",
    "            \n",
    "            losses=[]\n",
    "            batch_num=0\n",
    "            for X_batch,Y_batch in self.dltrain:\n",
    "                \n",
    "                   # Zero Gradients for the tensors that it will update\n",
    "                self.optimizer.zero_grad()   \n",
    "                # Forward Step\n",
    "                #result=self.forward(X_batch.cuda())\n",
    "                result=self.forward(X_batch)\n",
    "\n",
    "                # Calculate Loss\n",
    "                #loss=self.calculate_loss(Y_batch.cuda(),result)\n",
    "                loss=self.calculate_loss(Y_batch,result)\n",
    "                \n",
    "               \n",
    "                # Backward Pass\n",
    "                loss.backward()\n",
    "\n",
    "                # Update parameters\n",
    "                self.optimizer.step()\n",
    "                \n",
    "               \n",
    "                if lrs is not None:\n",
    "                    batch_num=batch_num+1\n",
    "                    #self.scheduler = torch.optim.lr_scheduler.StepLR(self.optimizer, step_size=3, gamma=0.1)\n",
    "                    #for param_group in self.optimizer.param_groups:\n",
    "                        #param_group['lr'] = lrs[batch_num-1]\n",
    "                    state_dict=self.optimizer.state_dict()\n",
    "                    for param_group in state_dict['param_groups']:\n",
    "                        param_group['lr']=lrs[batch_num-1]\n",
    "                    self.optimizer.load_state_dict(state_dict)\n",
    "                                \n",
    "                losses.append(loss.item())\n",
    "                \n",
    "            self.losses=losses   \n",
    "            # Early Stopping?\n",
    "            with torch.set_grad_enabled(False):   \n",
    "                for X_valid,Y_valid in self.dlvalid:\n",
    "                    #validloss=self.calculate_loss(self.forward(X_valid.cuda()),Y_valid.cuda())\n",
    "                    validloss=self.calculate_loss(self.forward(X_valid,Y_valid)\n",
    "                    print (f'Epoch:{epoch}  Training Loss: {np.mean(losses)} Validation Loss:{validloss.item()}')\n",
    "                \n",
    "  \n",
    "    def forward (self,X_batch):\n",
    "        batch_users,batch_movies=X_batch[:,0],X_batch[:,1]\n",
    "        predictions=(self.u(batch_users) * self.i(batch_movies)).sum(1)+\\\n",
    "            self.ub(batch_users).squeeze()+self.ib(batch_movies).squeeze()\n",
    "        result=torch.sigmoid(predictions)*(self.max_rating-self.min_rating)+self.min_rating\n",
    "        return result.view(-1,1)\n",
    "        \n",
    "    \n",
    "    def calculate_loss (self,actual,prediction):\n",
    "        loss=torch.sqrt(torch.nn.functional.mse_loss(prediction,actual))\n",
    "        return loss\n",
    "    \n",
    "    "
   ]
  },
  {
   "cell_type": "code",
   "execution_count": 92,
   "metadata": {},
   "outputs": [],
   "source": [
    "dltrain=torch.utils.data.DataLoader(dstrain,batch_size=64,shuffle=True)\n",
    "dlvalid=torch.utils.data.DataLoader(dsvalid,batch_size=dfvalid.shape[0],shuffle=False) # "
   ]
  },
  {
   "cell_type": "code",
   "execution_count": 93,
   "metadata": {},
   "outputs": [],
   "source": [
    "kl_lr=cf(dltrain,dlvalid,num_users,num_movies,min_rating,max_rating,num_factors=10)#.cuda()"
   ]
  },
  {
   "cell_type": "code",
   "execution_count": 94,
   "metadata": {},
   "outputs": [],
   "source": [
    "class LRFinder ():\n",
    "    def __init__(self, kl, start_lr=1e-5, end_lr=1, num_steps=2000, linear=False):\n",
    "        self.kl=kl\n",
    "        ratio=end_lr/start_lr\n",
    "        lr_mult=ratio/num_steps if linear else ratio ** (1/num_steps)\n",
    "        lrs=[]\n",
    "        lr=start_lr\n",
    "        for t in range (num_steps):\n",
    "            lr = t*lr_mult*start_lr if linear else lr*lr_mult\n",
    "            lrs.append(lr)\n",
    "        self.lrs=lrs\n",
    "        kl.gradient_descent(num_epochs=1,lr=5e-2,weight_decay=2e-5,lrs=self.lrs)\n",
    "        self.losses=kl.losses"
   ]
  },
  {
   "cell_type": "code",
   "execution_count": 95,
   "metadata": {},
   "outputs": [
    {
     "name": "stdout",
     "output_type": "stream",
     "text": [
      "Epoch:0  Training Loss: 1.372575767860291 Validation Loss:2.108032703399658\n"
     ]
    }
   ],
   "source": [
    "lrf=LRFinder(kl_lr,num_steps=np.int(np.floor(dftrain.shape[0]/64)+1),linear=False)"
   ]
  },
  {
   "cell_type": "code",
   "execution_count": 96,
   "metadata": {},
   "outputs": [
    {
     "data": {
      "text/plain": [
       "Text(0.05,0.75,'*')"
      ]
     },
     "execution_count": 96,
     "metadata": {},
     "output_type": "execute_result"
    },
    {
     "data": {
      "image/png": "[encoded data removed]",
      "text/plain": [
       "<matplotlib.figure.Figure at 0x22b9972b2b0>"
      ]
     },
     "metadata": {},
     "output_type": "display_data"
    }
   ],
   "source": [
    "ax=sns.lineplot(x=lrf.lrs,y=pd.Series(lrf.losses).rolling(1).mean())\n",
    "ax.set_xscale('log')\n",
    "ax.set_ylabel('Loss')\n",
    "ax.set_xlabel('Learning Rate')\n",
    "ax.set_ylim(bottom=0.8)\n",
    "ax.text(x=0.05,y=0.75,s='*')"
   ]
  },
  {
   "cell_type": "code",
   "execution_count": 97,
   "metadata": {},
   "outputs": [
    {
     "data": {
      "text/plain": [
       "Text(0.05,0.75,'*')"
      ]
     },
     "execution_count": 97,
     "metadata": {},
     "output_type": "execute_result"
    },
    {
     "data": {
      "image/png": "[encoded data removed]",
      "text/plain": [
       "<matplotlib.figure.Figure at 0x22b996f3278>"
      ]
     },
     "metadata": {},
     "output_type": "display_data"
    }
   ],
   "source": [
    "ax=sns.lineplot(x=lrf.lrs,y=pd.Series(lrf.losses).rolling(10).mean())\n",
    "ax.set_xscale('log')\n",
    "ax.set_ylabel('Loss')\n",
    "ax.set_xlabel('Learning Rate')\n",
    "ax.set_ylim(bottom=0.8)\n",
    "ax.text(x=0.05,y=0.75,s='*')"
   ]
  },
  {
   "cell_type": "code",
   "execution_count": 98,
   "metadata": {},
   "outputs": [
    {
     "data": {
      "text/plain": [
       "[2.1330230236053467,\n",
       " 2.2006585597991943,\n",
       " 2.515336275100708,\n",
       " 2.0598819255828857,\n",
       " 2.535822629928589]"
      ]
     },
     "execution_count": 98,
     "metadata": {},
     "output_type": "execute_result"
    }
   ],
   "source": [
    "lrf.losses[-5:]"
   ]
  },
  {
   "cell_type": "code",
   "execution_count": 99,
   "metadata": {},
   "outputs": [],
   "source": [
    "kl_new=cf(dltrain,dlvalid,num_users,num_movies,min_rating,max_rating,num_factors=10)#.cuda()"
   ]
  },
  {
   "cell_type": "code",
   "execution_count": 100,
   "metadata": {},
   "outputs": [
    {
     "name": "stdout",
     "output_type": "stream",
     "text": [
      "Epoch:0  Training Loss: 0.925138609695695 Validation Loss:0.8980610966682434\n",
      "Epoch:1  Training Loss: 0.7983495248134186 Validation Loss:0.9027208685874939\n"
     ]
    }
   ],
   "source": [
    "kl_new.gradient_descent(num_epochs=2,lr=1e-2,weight_decay=2e-5)"
   ]
  },
  {
   "cell_type": "markdown",
   "metadata": {},
   "source": [
    "#### Software is the king and not hardware"
   ]
  },
  {
   "cell_type": "markdown",
   "metadata": {},
   "source": [
    "### Deep Network with 3 hidden Layer"
   ]
  },
  {
   "cell_type": "code",
   "execution_count": 101,
   "metadata": {},
   "outputs": [],
   "source": [
    "dltrain=torch.utils.data.DataLoader(dstrain,batch_size=64,shuffle=True)\n",
    "dlvalid=torch.utils.data.DataLoader(dsvalid,batch_size=dfvalid.shape[0],shuffle=False) # "
   ]
  },
  {
   "cell_type": "code",
   "execution_count": 165,
   "metadata": {},
   "outputs": [
    {
     "data": {
      "text/html": [
       "<img src=\"network_architecture_1.png\"/>"
      ],
      "text/plain": [
       "<IPython.core.display.Image object>"
      ]
     },
     "execution_count": 165,
     "metadata": {},
     "output_type": "execute_result"
    }
   ],
   "source": [
    "Image(url= \"network_architecture_1.png\")"
   ]
  },
  {
   "cell_type": "markdown",
   "metadata": {},
   "source": [
    "Embedding -> Hidden Layer 1 (linear + Relu + Dropout) -> Hidden Layer 2 (Linear + relu + Dropout) -> Hidden Layer 3 (Linear + Logisitic) -> Linear Transformation"
   ]
  },
  {
   "cell_type": "code",
   "execution_count": 102,
   "metadata": {},
   "outputs": [],
   "source": [
    "class DeepRecNet (torch.nn.Module):\n",
    "    def __init__ (self,dltrain,dlvalid,num_users,num_movies,num_factors=10,num_hidden1=50,num_hidden2=10,\n",
    "                  dropout_p1=0.05,dropout_p2=0.5,dropout_embedding=0.05,max_rating=5,min_rating=0.5):\n",
    "        super (DeepRecNet, self).__init__()\n",
    "        self.dltrain,self.dlvalid,self.num_factors,self.num_hidden1,self.num_hidden2,self.dropout_p1,self.dropout_p2=\\\n",
    "            dltrain,dlvalid,num_factors,num_hidden1,num_hidden2,dropout_p1,dropout_p2\n",
    "        self.dropout_embedding,self.num_users,self.num_movies,self.min_rating,self.max_rating=\\\n",
    "        dropout_embedding,num_users,num_movies,min_rating,max_rating\n",
    "        self.create_network_architecture()\n",
    "        self.initialize_parameters()  \n",
    "          \n",
    "    def forward(self,X_batch):\n",
    "        # Embedding Layer\n",
    "        users=X_batch[:,0]\n",
    "        movies=X_batch[:,1]\n",
    "        out=torch.cat ([self.u(users),self.i(movies)],1)\n",
    "        out=self.dropout_1(out)\n",
    "        # Hidden Layer 1\n",
    "        out=self.linear_2(out)\n",
    "        out=self.relu_2(out)\n",
    "        out=self.dropout_2(out)\n",
    "        # Hidden Layer 2\n",
    "        out=self.linear_3(out)\n",
    "        out=self.dropout_3(out)\n",
    "        out=self.relu_3(out)\n",
    "        # Output Layer\n",
    "        out=self.linear_4(out)\n",
    "        out=self.logistic_4(out)\n",
    "        # output\n",
    "        out=out*(self.max_rating-self.min_rating)+self.min_rating\n",
    "        return out.view(-1,1)\n",
    "        \n",
    "    def create_network_architecture(self):\n",
    "        ##################################################\n",
    "        ###LAYER INPUT: \n",
    "            ### EMBEDDING LAYER FOLLOWED BY DROPOUT############\n",
    "            ### CONTINUOUS VARIABLES FOLLOWED BY BATCH NORMALIZATION  \n",
    "        ##################################################\n",
    "        # Embedding Layers\n",
    "        self.u=torch.nn.Embedding(self.num_users+1,self.num_factors)\n",
    "        self.i=torch.nn.Embedding(self.num_movies+1,self.num_factors)\n",
    "        # Dropout for embedding layers\n",
    "        self.dropout_1=torch.nn.Dropout(self.dropout_embedding)\n",
    "        ##################################################\n",
    "        ###LAYER 2: LINEAR LAYER FOLLOWED BY RELU############\n",
    "        ##################################################\n",
    "        self.linear_2=torch.nn.Linear(self.num_factors*2,self.num_hidden1,bias=True)\n",
    "        self.relu_2=torch.nn.ReLU()\n",
    "        self.dropout_2=torch.nn.Dropout(self.dropout_p1)\n",
    "        ##################################################\n",
    "        ###LAYER 3: LINEAR LAYER FOLLOWED BY RELU############\n",
    "        ##################################################\n",
    "        self.linear_3=torch.nn.Linear(self.num_hidden1,self.num_hidden2,bias=True)\n",
    "        self.relu_3=torch.nn.ReLU()\n",
    "        self.dropout_3=torch.nn.Dropout(self.dropout_p2)        \n",
    "        #######################################################\n",
    "        ##OUTPUT: LINEAR FOLLOWED BY LOGISTIC\n",
    "        ####################################################\n",
    "        self.linear_4=torch.nn.Linear(self.num_hidden2,1)\n",
    "        self.logistic_4=torch.nn.Sigmoid()\n",
    "       \n",
    "\n",
    "    def calculate_loss (self,actual,prediction):\n",
    "        loss=torch.sqrt(torch.nn.functional.mse_loss(prediction,actual))\n",
    "        return loss\n",
    "    def initialize_parameters(self):\n",
    "        self.u.weight.data.uniform_(0,0.001)\n",
    "        self.i.weight.data.uniform_(0,0.001)\n",
    "        torch.nn.init.normal_(self.linear_2.weight,0,0.001)\n",
    "        torch.nn.init.normal_(self.linear_3.weight,0,0.001)\n",
    "        torch.nn.init.normal_(self.linear_4.weight,0,0.001)\n",
    "        \n",
    "    def gradient_descent(self, num_epochs,lr, weight_decay,lrs=None):\n",
    "        self.num_epochs,self.lr,self.weight_decay=num_epochs,lr,weight_decay\n",
    "        self.optimizer=torch.optim.Adam(self.parameters(),lr=self.lr,betas=(0.9,0.999),eps=1e-8,weight_decay=weight_decay)\n",
    "        #self.optimizer=torch.optim.SGD(self.parameters(),momentum=0.9,lr=self.lr,weight_decay=self.weight_decay)\n",
    "        for epoch in range(self.num_epochs):\n",
    "            losses=[]\n",
    "            batch_num=0\n",
    "            for X_batch,Y_batch in self.dltrain:\n",
    "                   # Zero Gradients for the tensors that it will update\n",
    "                self.optimizer.zero_grad()   \n",
    "                # Forward Step\n",
    "                #result=self.forward(X_batch.cuda())\n",
    "                result=self.forward(X_batch)\n",
    "                # Calculate Loss\n",
    "                #loss=self.calculate_loss(Y_batch.cuda(),result) \n",
    "                loss=self.calculate_loss(Y_batch,result) \n",
    "                # Backward Pass\n",
    "                loss.backward()\n",
    "                # Update parameters\n",
    "                self.optimizer.step()\n",
    "                if lrs is not None:\n",
    "                    batch_num=batch_num+1\n",
    "                    #self.scheduler = torch.optim.lr_scheduler.StepLR(self.optimizer, step_size=3, gamma=0.1)\n",
    "                    #for param_group in self.optimizer.param_groups:\n",
    "                        #param_group['lr'] = lrs[batch_num-1]\n",
    "                    state_dict=self.optimizer.state_dict()\n",
    "                    for param_group in state_dict['param_groups']:\n",
    "                        param_group['lr']=lrs[batch_num-1]\n",
    "                    self.optimizer.load_state_dict(state_dict)\n",
    "                                \n",
    "                losses.append(loss.item())\n",
    "                \n",
    "            self.losses=losses   \n",
    "            # Early Stopping?\n",
    "            with torch.set_grad_enabled(False):   \n",
    "                for X_valid,Y_valid in self.dlvalid:\n",
    "                    #validloss=self.calculate_loss(self.forward(X_valid.cuda()),Y_valid.cuda())\n",
    "                    validloss=self.calculate_loss(self.forward(X_valid,Y_valid)                   \n",
    "                    print (f'Epoch:{epoch}  Training Loss: {np.mean(losses)} Validation Loss:{validloss.item()}') \n",
    "  "
   ]
  },
  {
   "cell_type": "code",
   "execution_count": 121,
   "metadata": {},
   "outputs": [],
   "source": [
    "class LRFinder ():\n",
    "    def __init__(self, kl, start_lr=1e-5, end_lr=1, weight_decay=5e-4, num_steps=2000, linear=False):\n",
    "        self.kl=kl\n",
    "        ratio=end_lr/start_lr\n",
    "        lr_mult=ratio/num_steps if linear else ratio ** (1/num_steps)\n",
    "        lrs=[]\n",
    "        lr=start_lr\n",
    "        for t in range (num_steps):\n",
    "            lr = t*lr_mult*start_lr if linear else lr*lr_mult\n",
    "            lrs.append(lr)\n",
    "        self.lrs=lrs\n",
    "        kl.gradient_descent(num_epochs=1,lr=5e-2,weight_decay=weight_decay,lrs=self.lrs)\n",
    "        self.losses=kl.losses"
   ]
  },
  {
   "cell_type": "code",
   "execution_count": 140,
   "metadata": {},
   "outputs": [],
   "source": [
    "#net2=KiranContentNet(cfobj,num_factors=150,num_hidden1=400,num_hidden2=200,num_hidden3=100,dropout_p1=0.1,dropout_p2=0.05,dropout_embedding=0.05).cuda()\n",
    "net2=DeepRecNet(dltrain,dlvalid,num_users,num_movies,num_factors=100,num_hidden1=50,num_hidden2=25,dropout_p1=0.25,\n",
    "                dropout_p2=0.1,dropout_embedding=0.01,min_rating=min_rating,max_rating=max_rating)#.cuda()\n"
   ]
  },
  {
   "cell_type": "code",
   "execution_count": 141,
   "metadata": {},
   "outputs": [
    {
     "name": "stdout",
     "output_type": "stream",
     "text": [
      "Epoch:0  Training Loss: 1.0583394899815186 Validation Loss:1.5715316534042358\n"
     ]
    }
   ],
   "source": [
    "lrf=LRFinder(net2,num_steps=np.int(np.floor(dftrain.shape[0]/64)+1),linear=False,end_lr=0.25)"
   ]
  },
  {
   "cell_type": "code",
   "execution_count": 147,
   "metadata": {},
   "outputs": [
    {
     "data": {
      "text/plain": [
       "Text(0.05,0.75,'*')"
      ]
     },
     "execution_count": 147,
     "metadata": {},
     "output_type": "execute_result"
    },
    {
     "data": {
      "image/png": "[encoded data removed]",
      "text/plain": [
       "<matplotlib.figure.Figure at 0x22bad038828>"
      ]
     },
     "metadata": {},
     "output_type": "display_data"
    }
   ],
   "source": [
    "ax=sns.lineplot(x=lrf.lrs,y=pd.Series(lrf.losses).rolling(1).mean())\n",
    "ax.set_xscale('log')\n",
    "ax.set_ylabel('Loss')\n",
    "ax.set_xlabel('Learning Rate')\n",
    "ax.set_ylim(bottom=0.5)\n",
    "ax.text(x=0.05,y=0.75,s='*')"
   ]
  },
  {
   "cell_type": "code",
   "execution_count": 148,
   "metadata": {},
   "outputs": [
    {
     "data": {
      "text/plain": [
       "Text(0.05,0.75,'*')"
      ]
     },
     "execution_count": 148,
     "metadata": {},
     "output_type": "execute_result"
    },
    {
     "data": {
      "image/png": "[encoded data removed]",
      "text/plain": [
       "<matplotlib.figure.Figure at 0x22bafc359e8>"
      ]
     },
     "metadata": {},
     "output_type": "display_data"
    }
   ],
   "source": [
    "ax=sns.lineplot(x=lrf.lrs,y=pd.Series(lrf.losses).rolling(25).mean())\n",
    "ax.set_xscale('log')\n",
    "ax.set_ylabel('Loss')\n",
    "ax.set_xlabel('Learning Rate')\n",
    "ax.set_ylim(bottom=0.5)\n",
    "ax.text(x=0.05,y=0.75,s='*')"
   ]
  },
  {
   "cell_type": "code",
   "execution_count": 146,
   "metadata": {},
   "outputs": [
    {
     "name": "stdout",
     "output_type": "stream",
     "text": [
      "Epoch:0  Training Loss: 0.9323789009839649 Validation Loss:0.9321234226226807\n",
      "Epoch:1  Training Loss: 0.8947621313846578 Validation Loss:0.9349735975265503\n",
      "Epoch:2  Training Loss: 0.8799132682498311 Validation Loss:0.9240941405296326\n",
      "Epoch:3  Training Loss: 0.8681767171247099 Validation Loss:0.9191564917564392\n",
      "Epoch:4  Training Loss: 0.8617765226073434 Validation Loss:0.9106886982917786\n"
     ]
    }
   ],
   "source": [
    "#net2=KiranContentNet(cfobj,num_factors=150,num_hidden1=400,num_hidden2=200,num_hidden3=100,dropout_p1=0.1,dropout_p2=0.05,dropout_embedding=0.05).cuda()\n",
    "net2=DeepRecNet(dltrain,dlvalid,num_users,num_movies,num_factors=100,num_hidden1=50,num_hidden2=25,dropout_p1=0.25,\n",
    "                dropout_p2=0.1,dropout_embedding=0.01,min_rating=min_rating,max_rating=max_rating)#.cuda()\n",
    "net2.gradient_descent (num_epochs=5,lr=5e-3, weight_decay=5e-4)"
   ]
  },
  {
   "cell_type": "code",
   "execution_count": 149,
   "metadata": {},
   "outputs": [
    {
     "name": "stdout",
     "output_type": "stream",
     "text": [
      "Epoch:0  Training Loss: 0.8830427918464515 Validation Loss:0.9215103983879089\n",
      "Epoch:1  Training Loss: 0.8604642599685502 Validation Loss:0.9090440273284912\n",
      "Epoch:2  Training Loss: 0.8556811295931073 Validation Loss:0.908053994178772\n",
      "Epoch:3  Training Loss: 0.8546677569674838 Validation Loss:0.9125334620475769\n",
      "Epoch:4  Training Loss: 0.8535092539739565 Validation Loss:0.9110316038131714\n"
     ]
    }
   ],
   "source": [
    "net2.gradient_descent (num_epochs=5,lr=5e-3, weight_decay=5e-4)"
   ]
  },
  {
   "cell_type": "markdown",
   "metadata": {},
   "source": [
    "## Different Deep Net Architecture"
   ]
  },
  {
   "cell_type": "code",
   "execution_count": 150,
   "metadata": {},
   "outputs": [
    {
     "data": {
      "text/plain": [
       "610"
      ]
     },
     "execution_count": 150,
     "metadata": {},
     "output_type": "execute_result"
    }
   ],
   "source": [
    "num_users"
   ]
  },
  {
   "cell_type": "code",
   "execution_count": 151,
   "metadata": {},
   "outputs": [
    {
     "data": {
      "text/plain": [
       "7525"
      ]
     },
     "execution_count": 151,
     "metadata": {},
     "output_type": "execute_result"
    }
   ],
   "source": [
    "num_movies"
   ]
  },
  {
   "cell_type": "code",
   "execution_count": 152,
   "metadata": {},
   "outputs": [],
   "source": [
    "class DeepRecNet (torch.nn.Module):\n",
    "    def __init__ (self,dltrain,dlvalid,num_users,num_movies,num_factors_users,num_factors_movies,num_hidden1=50,num_hidden2=10,\n",
    "                  num_hidden3=5,dropout_p1=0.05,dropout_p2=0.5,dropout_embedding=0.05,max_rating=5,min_rating=0.5):\n",
    "        super (DeepRecNet, self).__init__()\n",
    "        self.dltrain,self.dlvalid,self.num_factors_users,self.num_factors_movies,self.num_hidden1,self.num_hidden2,self.num_hidden3,self.dropout_p1,self.dropout_p2=\\\n",
    "            dltrain,dlvalid,num_factors_users,num_factors_movies,num_hidden1,num_hidden2,num_hidden3,dropout_p1,dropout_p2\n",
    "        self.dropout_embedding,self.num_users,self.num_movies,self.min_rating,self.max_rating=\\\n",
    "        dropout_embedding,num_users,num_movies,min_rating,max_rating\n",
    "        self.create_network_architecture()\n",
    "        self.initialize_parameters()  \n",
    "          \n",
    "    def forward(self,X_batch):\n",
    "        # Embedding Layer\n",
    "        users=X_batch[:,0]\n",
    "        movies=X_batch[:,1]\n",
    "        out=torch.cat ([self.u(users),self.i(movies)],1)\n",
    "        out=self.dropout_1(out)\n",
    "        # Hidden Layer 1\n",
    "        out=self.linear_2(out)\n",
    "        out=self.relu_2(out)\n",
    "        # Hidden Layer 2\n",
    "        out=self.linear_3(out)\n",
    "        out=self.dropout_3(out)\n",
    "        # Hidden Layer 3\n",
    "        out=self.linear_4(out)\n",
    "        out=self.relu_4(out)\n",
    "        # Output Layer\n",
    "        out=self.linear_5(out)\n",
    "        out=self.logistic_5(out)\n",
    "        # output\n",
    "        out=out*(self.max_rating-self.min_rating)+self.min_rating\n",
    "        return out.view(-1,1)\n",
    "        \n",
    "    def create_network_architecture(self):\n",
    "        ##################################################\n",
    "        ###LAYER INPUT: \n",
    "            ### EMBEDDING LAYER FOLLOWED BY DROPOUT############\n",
    "            ### CONTINUOUS VARIABLES FOLLOWED BY BATCH NORMALIZATION  \n",
    "        ##################################################\n",
    "        # Embedding Layers\n",
    "        self.u=torch.nn.Embedding(self.num_users+1,self.num_factors_users)\n",
    "        self.i=torch.nn.Embedding(self.num_movies+1,self.num_factors_movies)\n",
    "        # Dropout for embedding layers\n",
    "        self.dropout_1=torch.nn.Dropout(self.dropout_embedding)\n",
    "        ##################################################\n",
    "        ###LAYER 2: LINEAR LAYER FOLLOWED BY RELU############\n",
    "        ##################################################\n",
    "        self.linear_2=torch.nn.Linear(self.num_factors_users+self.num_factors_movies,self.num_hidden1,bias=True)\n",
    "        self.relu_2=torch.nn.ReLU()\n",
    "        ##################################################\n",
    "        ###LAYER 3: LINEAR LAYER FOLLOWED BY DROPOUT############\n",
    "        ##################################################\n",
    "        self.linear_3=torch.nn.Linear(self.num_hidden1,self.num_hidden2,bias=True)\n",
    "        self.dropout_3=torch.nn.Dropout(self.dropout_p1)    \n",
    "        ##################################################\n",
    "        ###LAYER 4: LINEAR LAYER FOLLOWED BY RELU############\n",
    "        ##################################################\n",
    "        self.linear_4=torch.nn.Linear(self.num_hidden2,self.num_hidden3,bias=True)\n",
    "        self.relu_4=torch.nn.ReLU()\n",
    "        #######################################################\n",
    "        ##OUTPUT: LINEAR FOLLOWED BY LOGISTIC\n",
    "        ####################################################\n",
    "        self.linear_5=torch.nn.Linear(self.num_hidden3,1)\n",
    "        self.logistic_5=torch.nn.Sigmoid()\n",
    "       \n",
    "\n",
    "    def calculate_loss (self,actual,prediction):\n",
    "        loss=torch.sqrt(torch.nn.functional.mse_loss(prediction,actual))\n",
    "        return loss\n",
    "    def initialize_parameters(self):\n",
    "        self.u.weight.data.uniform_(0,0.001)\n",
    "        self.i.weight.data.uniform_(0,0.001)\n",
    "        torch.nn.init.normal_(self.linear_2.weight,0,0.001)\n",
    "        torch.nn.init.normal_(self.linear_3.weight,0,0.001)\n",
    "        torch.nn.init.normal_(self.linear_4.weight,0,0.001)\n",
    "        \n",
    "    def gradient_descent(self, num_epochs,lr, weight_decay,lrs=None):\n",
    "        self.num_epochs,self.lr,self.weight_decay=num_epochs,lr,weight_decay\n",
    "        self.optimizer=torch.optim.Adam(self.parameters(),lr=self.lr,betas=(0.9,0.999),eps=1e-8,weight_decay=weight_decay)\n",
    "        #self.optimizer=torch.optim.SGD(self.parameters(),momentum=0.9,lr=self.lr,weight_decay=self.weight_decay)\n",
    "        for epoch in range(self.num_epochs):\n",
    "            losses=[]\n",
    "            batch_num=0\n",
    "            for X_batch,Y_batch in self.dltrain:\n",
    "                   # Zero Gradients for the tensors that it will update\n",
    "                self.optimizer.zero_grad()   \n",
    "                # Forward Step\n",
    "                result=self.forward(X_batch)#.cuda())\n",
    "                # Calculate Loss\n",
    "                #loss=self.calculate_loss(Y_batch.cuda(),result)    \n",
    "                loss=self.calculate_loss(Y_batch,result)              \n",
    "               \n",
    "                # Backward Pass\n",
    "                loss.backward()\n",
    "                # Update parameters\n",
    "                self.optimizer.step()\n",
    "                if lrs is not None:\n",
    "                    batch_num=batch_num+1\n",
    "                    #self.scheduler = torch.optim.lr_scheduler.StepLR(self.optimizer, step_size=3, gamma=0.1)\n",
    "                    #for param_group in self.optimizer.param_groups:\n",
    "                        #param_group['lr'] = lrs[batch_num-1]\n",
    "                    state_dict=self.optimizer.state_dict()\n",
    "                    for param_group in state_dict['param_groups']:\n",
    "                        param_group['lr']=lrs[batch_num-1]\n",
    "                    self.optimizer.load_state_dict(state_dict)\n",
    "                                \n",
    "                losses.append(loss.item())\n",
    "                \n",
    "            self.losses=losses   \n",
    "            # Early Stopping?\n",
    "            with torch.set_grad_enabled(False):   \n",
    "                for X_valid,Y_valid in self.dlvalid:\n",
    "                    #validloss=self.calculate_loss(self.forward(X_valid.cuda()),Y_valid.cuda())\n",
    "                    validloss=self.calculate_loss(self.forward(X_valid,Y_valid)\n",
    "                    print (f'Epoch:{epoch}  Training Loss: {np.mean(losses)} Validation Loss:{validloss.item()}') \n",
    "  "
   ]
  },
  {
   "cell_type": "code",
   "execution_count": 153,
   "metadata": {},
   "outputs": [],
   "source": [
    "net3=DeepRecNet(dltrain,dlvalid,num_users,num_movies,num_factors_users=100,num_factors_movies=200,\n",
    "                num_hidden1=150,num_hidden2=75,num_hidden3=10,dropout_p1=0.25,\n",
    "                dropout_p2=0.25,dropout_embedding=0.01,min_rating=min_rating,max_rating=max_rating)#.cuda()"
   ]
  },
  {
   "cell_type": "code",
   "execution_count": 155,
   "metadata": {},
   "outputs": [
    {
     "name": "stdout",
     "output_type": "stream",
     "text": [
      "Epoch:0  Training Loss: 1.0790557637878502 Validation Loss:1.0603982210159302\n"
     ]
    }
   ],
   "source": [
    "lrf=LRFinder(net3,num_steps=np.int(np.floor(dftrain.shape[0]/64)+1),linear=False,end_lr=0.25,weight_decay=5e-4)"
   ]
  },
  {
   "cell_type": "code",
   "execution_count": 157,
   "metadata": {},
   "outputs": [
    {
     "data": {
      "text/plain": [
       "Text(0.05,0.75,'*')"
      ]
     },
     "execution_count": 157,
     "metadata": {},
     "output_type": "execute_result"
    },
    {
     "data": {
      "image/png": "[encoded data removed]",
      "text/plain": [
       "<matplotlib.figure.Figure at 0x22ba2adcda0>"
      ]
     },
     "metadata": {},
     "output_type": "display_data"
    }
   ],
   "source": [
    "ax=sns.lineplot(x=lrf.lrs,y=pd.Series(lrf.losses).rolling(1).mean())\n",
    "ax.set_xscale('log')\n",
    "ax.set_ylabel('Loss')\n",
    "ax.set_xlabel('Learning Rate')\n",
    "ax.set_ylim(bottom=0.5)\n",
    "ax.text(x=0.05,y=0.75,s='*')"
   ]
  },
  {
   "cell_type": "code",
   "execution_count": 159,
   "metadata": {},
   "outputs": [
    {
     "data": {
      "text/plain": [
       "Text(0.05,0.75,'*')"
      ]
     },
     "execution_count": 159,
     "metadata": {},
     "output_type": "execute_result"
    },
    {
     "data": {
      "image/png": "[encoded data removed]",
      "text/plain": [
       "<matplotlib.figure.Figure at 0x22bb5bb44a8>"
      ]
     },
     "metadata": {},
     "output_type": "display_data"
    }
   ],
   "source": [
    "ax=sns.lineplot(x=lrf.lrs,y=pd.Series(lrf.losses).rolling(10).mean())\n",
    "ax.set_xscale('log')\n",
    "ax.set_ylabel('Loss')\n",
    "ax.set_xlabel('Learning Rate')\n",
    "ax.set_ylim(bottom=0.7)\n",
    "ax.text(x=0.05,y=0.75,s='*')"
   ]
  },
  {
   "cell_type": "code",
   "execution_count": 162,
   "metadata": {},
   "outputs": [
    {
     "name": "stdout",
     "output_type": "stream",
     "text": [
      "Epoch:0  Training Loss: 0.9208805608792778 Validation Loss:0.9288872480392456\n",
      "Epoch:1  Training Loss: 0.8799118380095332 Validation Loss:0.913957417011261\n",
      "Epoch:2  Training Loss: 0.8595516952305517 Validation Loss:0.9045547246932983\n",
      "Epoch:3  Training Loss: 0.8449917543574395 Validation Loss:0.8942424654960632\n",
      "Epoch:4  Training Loss: 0.831372049909163 Validation Loss:0.8948850631713867\n"
     ]
    }
   ],
   "source": [
    "net3=DeepRecNet(dltrain,dlvalid,num_users,num_movies,num_factors_users=100,num_factors_movies=200,\n",
    "                num_hidden1=150,num_hidden2=75,num_hidden3=10,dropout_p1=0.25,\n",
    "                dropout_p2=0.25,dropout_embedding=0.01,min_rating=min_rating,max_rating=max_rating)#.cuda()\n",
    "net3.gradient_descent (num_epochs=5,lr=2e-3, weight_decay=5e-4)"
   ]
  },
  {
   "cell_type": "code",
   "execution_count": 163,
   "metadata": {},
   "outputs": [
    {
     "data": {
      "text/html": [
       "<img src=\"network_architecture.png\"/>"
      ],
      "text/plain": [
       "<IPython.core.display.Image object>"
      ]
     },
     "execution_count": 163,
     "metadata": {},
     "output_type": "execute_result"
    }
   ],
   "source": [
    "Image(url= \"network_architecture.png\")"
   ]
  },
  {
   "cell_type": "markdown",
   "metadata": {},
   "source": [
    "## Heuristic Methods"
   ]
  },
  {
   "cell_type": "markdown",
   "metadata": {},
   "source": [
    "### Global  Average"
   ]
  },
  {
   "cell_type": "code",
   "execution_count": 47,
   "metadata": {},
   "outputs": [],
   "source": [
    "global_average_rating=dftrain['rating'].mean()"
   ]
  },
  {
   "cell_type": "code",
   "execution_count": 48,
   "metadata": {},
   "outputs": [],
   "source": [
    "df=dfvalid.copy()\n",
    "actual=df['rating']\n",
    "df['prediction']=global_average_rating\n",
    "mse_score=metrics.mean_squared_error(df['rating'],df['prediction'])\n",
    "r2_score=metrics.r2_score(df['rating'],df['prediction'])"
   ]
  },
  {
   "cell_type": "code",
   "execution_count": 50,
   "metadata": {},
   "outputs": [
    {
     "name": "stdout",
     "output_type": "stream",
     "text": [
      "MSE: 1.1166294001480062, R2: -0.003951506926251236\n"
     ]
    }
   ],
   "source": [
    "print (f'MSE: {mse_score}, R2: {r2_score}')"
   ]
  },
  {
   "cell_type": "markdown",
   "metadata": {},
   "source": [
    "### Global User Average"
   ]
  },
  {
   "cell_type": "code",
   "execution_count": 55,
   "metadata": {},
   "outputs": [],
   "source": [
    "global_user_average_rating=dftrain.groupby('userId')['rating'].mean()"
   ]
  },
  {
   "cell_type": "code",
   "execution_count": 56,
   "metadata": {},
   "outputs": [],
   "source": [
    "df=dfvalid.copy()\n",
    "actual=df['rating']\n",
    "temp=pd.DataFrame(data=global_user_average_rating, index=global_user_average_rating.index)\n",
    "temp=pd.merge(df,temp,left_on='userId',right_index=True,how='left',suffixes=['_actual','_pred'])\n",
    "temp['rating_pred'].fillna(global_average_rating,inplace=True)\n",
    "prediction=temp['rating_pred']\n",
    "mse_score=metrics.mean_squared_error(actual,prediction)\n",
    "r2_score=metrics.r2_score(actual,prediction)"
   ]
  },
  {
   "cell_type": "code",
   "execution_count": 57,
   "metadata": {},
   "outputs": [
    {
     "name": "stdout",
     "output_type": "stream",
     "text": [
      "MSE: 0.9361412779041992, R2: 0.15832374955986828\n"
     ]
    }
   ],
   "source": [
    "print (f'MSE: {mse_score}, R2: {r2_score}')"
   ]
  },
  {
   "cell_type": "markdown",
   "metadata": {},
   "source": [
    "### Global Item Average"
   ]
  },
  {
   "cell_type": "code",
   "execution_count": 54,
   "metadata": {},
   "outputs": [],
   "source": [
    "global_item_average_rating=dftrain.groupby('movieId')['rating'].mean()"
   ]
  },
  {
   "cell_type": "code",
   "execution_count": 59,
   "metadata": {},
   "outputs": [],
   "source": [
    "df=dfvalid.copy()\n",
    "actual=df['rating']\n",
    "temp=pd.DataFrame(data=global_item_average_rating, index=global_item_average_rating.index)\n",
    "temp=pd.merge(df,temp,left_on='movieId',right_index=True,how='left',suffixes=['_actual','_pred'])\n",
    "temp['rating_pred'].fillna(global_average_rating,inplace=True)\n",
    "prediction=temp['rating_pred']\n",
    "mse_score=metrics.mean_squared_error(actual,prediction)\n",
    "r2_score=metrics.r2_score(actual,prediction)"
   ]
  },
  {
   "cell_type": "code",
   "execution_count": 60,
   "metadata": {},
   "outputs": [
    {
     "name": "stdout",
     "output_type": "stream",
     "text": [
      "MSE: 1.0356573408135799, R2: 0.06884974743526229\n"
     ]
    }
   ],
   "source": [
    "print (f'MSE: {mse_score}, R2: {r2_score}')"
   ]
  },
  {
   "cell_type": "code",
   "execution_count": 151,
   "metadata": {},
   "outputs": [],
   "source": []
  },
  {
   "cell_type": "code",
   "execution_count": null,
   "metadata": {},
   "outputs": [],
   "source": []
  }
 ],
 "metadata": {
  "kernelspec": {
   "display_name": "Python 3",
   "language": "python",
   "name": "python3"
  },
  "language_info": {
   "codemirror_mode": {
    "name": "ipython",
    "version": 3
   },
   "file_extension": ".py",
   "mimetype": "text/x-python",
   "name": "python",
   "nbconvert_exporter": "python",
   "pygments_lexer": "ipython3",
   "version": "3.7.3"
  }
 },
 "nbformat": 4,
 "nbformat_minor": 2
}
